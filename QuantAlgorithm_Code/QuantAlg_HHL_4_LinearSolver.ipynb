{
 "cells": [
  {
   "cell_type": "code",
   "execution_count": 222,
   "id": "0c782a9b",
   "metadata": {},
   "outputs": [],
   "source": [
    "# Pennylane\n",
    "import pennylane as qml\n",
    "from pennylane import numpy as np\n",
    "from scipy.linalg import expm\n",
    "# Plotting\n",
    "import matplotlib.pyplot as plt"
   ]
  },
  {
   "cell_type": "markdown",
   "id": "0d11765b",
   "metadata": {},
   "source": [
    "# Setting of the main hyper-parameters of the model"
   ]
  },
  {
   "cell_type": "code",
   "execution_count": 223,
   "id": "c44a4fe7",
   "metadata": {},
   "outputs": [],
   "source": [
    "n_qubits = 1  # Number of system qubits.\n",
    "n_shots = 10 ** 6  # Number of quantum measurements.\n",
    "phase_qubits = 4 # Number of qubits used for phase estimation.\n",
    "ancilla_qubit = 1 # Number of ancillary qubits used for eigenvalue encoding amplitude\n",
    "tot_qubits = n_qubits + phase_qubits + ancilla_qubit # Total number of qubits (system + ancillary + QPE qubits).\n",
    "dim = 2 ** n_qubits  # Dimension of the problem space"
   ]
  },
  {
   "cell_type": "code",
   "execution_count": 224,
   "id": "83f131a2",
   "metadata": {},
   "outputs": [],
   "source": [
    "# Assume phase_wires and target_wire are defined as in previous cells\n",
    "phase_wires = range(phase_qubits)  # Phase estimation wires\n",
    "target_wires = range(phase_qubits, phase_qubits + n_qubits)  # Target wires\n",
    "ancilla_wires = range(phase_qubits + n_qubits, phase_qubits + n_qubits + ancilla_qubit)  # Ancilla wires"
   ]
  },
  {
   "cell_type": "markdown",
   "id": "92121df8",
   "metadata": {},
   "source": [
    "# HHL algorithms"
   ]
  },
  {
   "cell_type": "markdown",
   "id": "9301b78e",
   "metadata": {},
   "source": [
    "## Unitary Gate of the problem matrix A: $e^{iA}$ "
   ]
  },
  {
   "cell_type": "code",
   "execution_count": 225,
   "id": "8dd552f2",
   "metadata": {},
   "outputs": [],
   "source": [
    "def apply_unitary(wires):\n",
    "    # Define Hermitian matrix A\n",
    "    # A = np.array([\n",
    "    #     [1, 0, 0, 1],\n",
    "    #     [0, 2, 1, 0],\n",
    "    #     [0, 1, 3, 0],\n",
    "    #     [1, 0, 0, 4]\n",
    "    # ], dtype=np.complex128)\n",
    "    A = np.array([[-1.5, 0.5],\n",
    "           [0.5, -1.5]], dtype=np.complex128)\n",
    "    A = -np.array(A)\n",
    "    # Compute the unitary U = exp(iA)\n",
    "    U = expm(1j * A)\n",
    "    # Confirm unitarity\n",
    "    assert np.allclose(U.conj().T @ U, np.eye(2**n_qubits)), \"U is not unitary\"\n",
    "    # Apply the unitary operation to the specified wires\n",
    "    qml.QubitUnitary(U, wires=wires)\n",
    "    "
   ]
  },
  {
   "cell_type": "markdown",
   "id": "683e2fe4",
   "metadata": {},
   "source": [
    "## QPE Circuit"
   ]
  },
  {
   "cell_type": "code",
   "execution_count": 226,
   "id": "713c2bd1",
   "metadata": {},
   "outputs": [],
   "source": [
    "# Define the quantum phase estimation circuit\n",
    "def qpe_circuit(phase_wires, target_wire): \n",
    "    # Initialize target in eigenstate of U\n",
    "    # qml.Hadamard(wires=target_wire)\n",
    "\n",
    "    # Apply Hadamards to phase register\n",
    "    for w in phase_wires:\n",
    "        qml.Hadamard(wires=w)\n",
    "\n",
    "    # Apply controlled-U^{2^k}\n",
    "    apply_unitary_powers = [2 ** i for i in range(len(phase_wires))]\n",
    "\n",
    "    for i, power in enumerate(apply_unitary_powers):\n",
    "        for _ in range(power):\n",
    "            qml.ctrl(apply_unitary, control=phase_wires[::-1][i])(wires=target_wire)\n",
    "\n",
    "    # Apply inverse QFT\n",
    "    qml.adjoint(qml.QFT)(wires=phase_wires)"
   ]
  },
  {
   "cell_type": "markdown",
   "id": "8068d473",
   "metadata": {},
   "source": [
    "## Control-Rotation gate for embedding inverse eigenvalues $\\lambda_i \\rightarrow \\lambda_i^{-1}$"
   ]
  },
  {
   "cell_type": "code",
   "execution_count": 227,
   "id": "d6eb1d28",
   "metadata": {},
   "outputs": [],
   "source": [
    "def AQE_fractional_rotation(control_wires, target_wire):\n",
    "    \"\"\"Apply controlled RY rotation based on fractional binary interpretation of control qubits.\"\"\"\n",
    "    n = len(control_wires)\n",
    "\n",
    "    for d in range(1, 2**n):  # skip d=0 to avoid divide-by-zero\n",
    "        # Convert decimal to binary string to run all possible state\n",
    "        bin_str = f\"{d:0{n}b}\"\n",
    "        # Convert binary string to list of bits for controlled rotation\n",
    "        bit_strings = [int(bit) for bit in bin_str]\n",
    "        # Compute fractional binary value: d = sum x_j * 2^-j\n",
    "        fractional_d = sum(int(bit) * 2**-(j+1) for j, bit in enumerate(bin_str))\n",
    "        # Compute the inverse of the fractional value\n",
    "        inv = 1 / fractional_d\n",
    "        # Normalize to [0, 1] range\n",
    "        inv = inv / (2 ** n)\n",
    "        # Convert to angle for RY gate, the state |0> amplitude corresponds to inv value\n",
    "        theta = np.arccos(inv) * 2  # 2*theta for full RY\n",
    "        # Apply controlled RY rotation on target wire controling on control wires\n",
    "        qml.ctrl(qml.RY, control=control_wires, control_values=bit_strings)(theta,wires=target_wire)\n"
   ]
  },
  {
   "cell_type": "markdown",
   "id": "9bd30ccf",
   "metadata": {},
   "source": [
    "## HHL Quantum circuit"
   ]
  },
  {
   "cell_type": "code",
   "execution_count": null,
   "id": "a5e07441",
   "metadata": {},
   "outputs": [],
   "source": [
    "dev = qml.device(\"default.qubit\", wires=tot_qubits)\n",
    "@qml.qnode(dev)\n",
    "def hhl_circuit():\n",
    "    # 1. Initialize the target qubit\n",
    "    # Normalize the input vector\n",
    "    vector = np.array([0.03, -0.02])\n",
    "    norm_vector = vector / np.linalg.norm(vector)\n",
    "    print()\n",
    "    # Initialize the quantum state to the normalized vector on the target wires\n",
    "    qml.QubitStateVector(norm_vector, wires=target_wires)\n",
    "    # for target_wire in target_wires:\n",
    "    #     qml.Hadamard(wires=target_wire) # in this example, |b> = U_b |0> = H_0 H_1 ... |0>\n",
    "\n",
    "    # 2. Apply QPE (Quantum Phase Estimation)\n",
    "    qpe_circuit(phase_wires, target_wires)\n",
    "\n",
    "    # 3. Apply AQE fractional rotation (controlled RY based on phase_wires)\n",
    "    AQE_fractional_rotation(phase_wires, ancilla_wires)\n",
    "\n",
    "    # 4. Apply inverse QPE (adjoint of QPE)\n",
    "    qml.adjoint(qpe_circuit)(phase_wires, target_wires)\n",
    "\n",
    "    # 5. Measure the target qubit\n",
    "    probs = qml.probs(wires= [*target_wires,*ancilla_wires])\n",
    "    \n",
    "    return probs"
   ]
  },
  {
   "cell_type": "markdown",
   "id": "10cadad6",
   "metadata": {},
   "source": [
    "## Run HHL algorithm"
   ]
  },
  {
   "cell_type": "code",
   "execution_count": 229,
   "id": "c1531a45",
   "metadata": {},
   "outputs": [
    {
     "name": "stdout",
     "output_type": "stream",
     "text": [
      "Target qubit probabilities: [0.03896674 0.63877567 0.00843368 0.31382391]\n"
     ]
    },
    {
     "data": {
      "image/png": "[encoded data removed]",
      "text/plain": [
       "<Figure size 640x480 with 1 Axes>"
      ]
     },
     "metadata": {},
     "output_type": "display_data"
    }
   ],
   "source": [
    "probs = hhl_circuit()\n",
    "print(\"Target qubit probabilities:\", probs)\n",
    "# Plot the result\n",
    "plt.bar([f\"|{i:0{len(bin(len(probs)-1))-2}b}⟩\" for i in range(len(probs))], probs)\n",
    "plt.xticks(rotation=90)\n",
    "plt.xlabel(\"Target qubit state\")\n",
    "plt.ylabel(\"Probability\")\n",
    "plt.title(\"HHL Target Qubit Measurement\")\n",
    "plt.show()"
   ]
  },
  {
   "cell_type": "markdown",
   "id": "011def2f",
   "metadata": {},
   "source": [
    "Retain only probabilities where the ancilla qubit (last qubit) is in state |0>"
   ]
  },
  {
   "cell_type": "code",
   "execution_count": 230,
   "id": "5072a859",
   "metadata": {},
   "outputs": [
    {
     "name": "stdout",
     "output_type": "stream",
     "text": [
      "Probabilities of targer qubits with ancilla qubit in |0>: [0.03896674 0.00843368]\n",
      "Normalized probabilities: [0.8220759 0.1779241]\n"
     ]
    }
   ],
   "source": [
    "# Get indices where ancilla qubit is 0 (i.e., even indices)\n",
    "ancil_position = tot_qubits - ancilla_wires[0] - 1  # Assuming ancilla_wires is a list with one element\n",
    "ancilla_zero_indices = [i for i in range(len(probs)) if (i & 2**ancil_position) == 0]\n",
    "probs_ancilla0 = probs[ancilla_zero_indices]\n",
    "print(\"Probabilities of targer qubits with ancilla qubit in |0>:\", probs_ancilla0)\n",
    "# Normalize the filtered probabilities\n",
    "probs_ancilla0_normalized = probs_ancilla0 / np.sum(probs_ancilla0)\n",
    "print(\"Normalized probabilities:\", probs_ancilla0_normalized)"
   ]
  },
  {
   "cell_type": "code",
   "execution_count": 231,
   "id": "0e9e1e2d",
   "metadata": {},
   "outputs": [
    {
     "name": "stdout",
     "output_type": "stream",
     "text": [
      "Target qubit probabilities: [0.8220759 0.1779241]\n"
     ]
    },
    {
     "data": {
      "image/png": "[encoded data removed]",
      "text/plain": [
       "<Figure size 640x480 with 1 Axes>"
      ]
     },
     "metadata": {},
     "output_type": "display_data"
    }
   ],
   "source": [
    "print(\"Target qubit probabilities:\", probs_ancilla0_normalized)\n",
    "# Plot the result\n",
    "plt.bar([f\"|{i:0{len(bin(len(probs_ancilla0_normalized)-1))-2}b}⟩\" for i in range(len(probs_ancilla0_normalized))], probs_ancilla0_normalized)\n",
    "plt.xticks(rotation=90)\n",
    "plt.xlabel(\"Target qubit state\")\n",
    "plt.ylabel(\"Probability\")\n",
    "plt.title(\"HHL Target Qubit Measurement\")\n",
    "plt.show()"
   ]
  },
  {
   "cell_type": "markdown",
   "id": "693b0212",
   "metadata": {},
   "source": [
    "## QPE function from Pennylane"
   ]
  },
  {
   "cell_type": "code",
   "execution_count": null,
   "id": "ad80983e",
   "metadata": {},
   "outputs": [],
   "source": [
    "def U(wires):\n",
    "    return qml.RZ(2 * np.pi * 0.5, wires=wires) # qml.PhaseShift(2 * np.pi / 5, wires=wires)\n",
    "\n",
    "dev = qml.device(\"default.qubit\", wires=5)\n",
    "@qml.qnode(dev)\n",
    "# Another QPE function from Pennylane documentation\n",
    "def circuit_qpe():\n",
    "    estimation_wires = [0,1,2,3]\n",
    "    target_wires = 4\n",
    "    # initialize to state |1>\n",
    "    # qml.PauliX(wires=4)\n",
    "\n",
    "    for wire in estimation_wires:\n",
    "        qml.Hadamard(wires=wire)\n",
    "\n",
    "    qml.ControlledSequence(U(wires=target_wires), control=estimation_wires)\n",
    "\n",
    "    qml.adjoint(qml.QFT)(wires=estimation_wires)\n",
    "\n",
    "    return qml.probs(wires=estimation_wires)\n"
   ]
  },
  {
   "cell_type": "code",
   "execution_count": null,
   "id": "79c4d9e9",
   "metadata": {},
   "outputs": [
    {
     "name": "stdout",
     "output_type": "stream",
     "text": [
      "[9.49116908e-34 2.21670868e-33 6.19242684e-33 2.23830617e-32\n",
      " 1.00000000e+00 2.84971388e-32 5.40420435e-33 1.37759139e-33\n",
      " 2.08281348e-33 4.80826358e-34 8.69953014e-34 1.40801781e-33\n",
      " 9.37349864e-34 2.44875649e-34 5.80786434e-34 7.06899438e-34]\n"
     ]
    }
   ],
   "source": [
    "probs = circuit_qpe()\n",
    "print(probs)"
   ]
  },
  {
   "cell_type": "code",
   "execution_count": 311,
   "id": "b1831120",
   "metadata": {},
   "outputs": [
    {
     "data": {
      "image/png": "[encoded data removed]",
      "text/plain": [
       "<Figure size 640x480 with 1 Axes>"
      ]
     },
     "metadata": {},
     "output_type": "display_data"
    }
   ],
   "source": [
    "plt.bar([f\"|{i:0{len(bin(len(probs)-1))-2}b}⟩\" for i in range(len(probs))], probs)\n",
    "plt.xticks(rotation=90)\n",
    "plt.xlabel(\"State\")\n",
    "plt.title(\"Quantum State Probabilities from QPE\")\n",
    "plt.show()"
   ]
  },
  {
   "cell_type": "markdown",
   "id": "55b2ff3b",
   "metadata": {},
   "source": [
    "The order of binary representation in Pennylane is like $\\ket{001} = 1$, which is fliping the last qubit (3rd qubit). However, in the reverse binary rep., $\\ket{001} = 2^{-3}$"
   ]
  },
  {
   "cell_type": "markdown",
   "id": "422a501c",
   "metadata": {},
   "source": [
    "# Comparison of quantum and classical results"
   ]
  },
  {
   "cell_type": "markdown",
   "id": "9d6cebe4",
   "metadata": {},
   "source": [
    "## Classical algorithm"
   ]
  },
  {
   "cell_type": "markdown",
   "id": "db38487d",
   "metadata": {},
   "source": [
    "Generate the defined matrix A from example above"
   ]
  },
  {
   "cell_type": "code",
   "execution_count": 232,
   "id": "dd7c1453",
   "metadata": {},
   "outputs": [],
   "source": [
    "A_num = np.array([\n",
    "        [1, 0, 0, 1],\n",
    "        [0, 2, 1, 0],\n",
    "        [0, 1, 3, 0],\n",
    "        [1, 0, 0, 4]\n",
    "    ], dtype=np.complex128)\n",
    "b = np.ones(dim) / np.sqrt(dim)"
   ]
  },
  {
   "cell_type": "code",
   "execution_count": 233,
   "id": "95167974",
   "metadata": {},
   "outputs": [],
   "source": [
    "A_num = np.array([[-1.5, 0.5],\n",
    "           [0.5, -1.5]], dtype=np.complex128)\n",
    "b = np.array([0.03, -0.02])"
   ]
  },
  {
   "cell_type": "code",
   "execution_count": 234,
   "id": "14ab5f96",
   "metadata": {},
   "outputs": [
    {
     "name": "stdout",
     "output_type": "stream",
     "text": [
      "A = \n",
      " [[-1.5+0.j  0.5+0.j]\n",
      " [ 0.5+0.j -1.5+0.j]]\n",
      "b = \n",
      " [ 0.03 -0.02]\n"
     ]
    }
   ],
   "source": [
    "print(\"A = \\n\", A_num)\n",
    "print(\"b = \\n\", b)"
   ]
  },
  {
   "cell_type": "markdown",
   "id": "355662e6",
   "metadata": {},
   "source": [
    "Classical algorithm via np.linalg"
   ]
  },
  {
   "cell_type": "code",
   "execution_count": 235,
   "id": "2ff54973",
   "metadata": {},
   "outputs": [],
   "source": [
    "# The solution can be computed via a matrix inversion:\n",
    "A_num = -np.array(A_num)\n",
    "A_inv = np.linalg.inv(A_num)\n",
    "x = np.dot(A_inv, b)"
   ]
  },
  {
   "cell_type": "code",
   "execution_count": null,
   "id": "494df0da",
   "metadata": {},
   "outputs": [],
   "source": [
    "# In order to compare x with the quantum state |x>, we normalize and square its elements.\n",
    "c_probs = (x / np.linalg.norm(x)) ** 2"
   ]
  },
  {
   "cell_type": "markdown",
   "id": "fe56ca01",
   "metadata": {},
   "source": [
    "## Comparison"
   ]
  },
  {
   "cell_type": "code",
   "execution_count": 238,
   "id": "ddb6f717",
   "metadata": {},
   "outputs": [
    {
     "name": "stdout",
     "output_type": "stream",
     "text": [
      "x_n^2 =\n",
      " [0.84482759+0.j 0.15517241-0.j]\n"
     ]
    }
   ],
   "source": [
    "# Classical result\n",
    "print(\"x_n^2 =\\n\", c_probs)"
   ]
  },
  {
   "cell_type": "code",
   "execution_count": 240,
   "id": "8c5d16f8",
   "metadata": {},
   "outputs": [
    {
     "name": "stdout",
     "output_type": "stream",
     "text": [
      "|<x|n>|^2=\n",
      " [0.8220759 0.1779241]\n"
     ]
    }
   ],
   "source": [
    "# Quantum result\n",
    "print(\"|<x|n>|^2=\\n\", probs_ancilla0_normalized)"
   ]
  },
  {
   "cell_type": "code",
   "execution_count": 241,
   "id": "47476da3",
   "metadata": {},
   "outputs": [
    {
     "name": "stderr",
     "output_type": "stream",
     "text": [
      "C:\\Users\\PC\\AppData\\Local\\Packages\\PythonSoftwareFoundation.Python.3.9_qbz5n2kfra8p0\\LocalCache\\local-packages\\Python39\\site-packages\\matplotlib\\transforms.py:788: ComplexWarning: Casting complex values to real discards the imaginary part\n",
      "  points = np.asarray(points, float)\n"
     ]
    },
    {
     "data": {
      "image/png": "[encoded data removed]",
      "text/plain": [
       "<Figure size 700x400 with 2 Axes>"
      ]
     },
     "metadata": {},
     "output_type": "display_data"
    }
   ],
   "source": [
    "# Graphically visualize both distributions.\n",
    "fig, (ax1, ax2) = plt.subplots(1, 2, figsize=(7, 4))\n",
    "\n",
    "ax1.bar(np.arange(0, 2 ** n_qubits), c_probs, color=\"blue\")\n",
    "ax1.set_xlim(-0.5, 2 ** n_qubits - 0.5)\n",
    "ax1.set_xlabel(\"Vector space basis\")\n",
    "ax1.set_title(\"Classical probabilities\")\n",
    "\n",
    "ax2.bar(np.arange(0, 2 ** n_qubits), probs_ancilla0_normalized, color=\"green\")\n",
    "ax2.set_xlim(-0.5, 2 ** n_qubits - 0.5)\n",
    "ax2.set_xlabel(\"Hilbert space basis\")\n",
    "ax2.set_title(\"Quantum probabilities\")\n",
    "\n",
    "plt.show()"
   ]
  },
  {
   "cell_type": "markdown",
   "id": "9d5e95be",
   "metadata": {},
   "source": [
    "# References"
   ]
  },
  {
   "cell_type": "markdown",
   "id": "ef99dc4f",
   "metadata": {},
   "source": [
    "1. Y. Zhou et al., \"Quantum computing in power systems\" in iEnergy, vol. 1, no. 2, pp. 170-187, June 2022, doi: 10.23919/IEN.2022.0021.\n",
    "2. Brynjar Sævarsson et al, \" Quantum Computing for Power Flow Algorithms: Testing on real Quantum Computers\", arXiv:2204.14028\n",
    "3. Harrow, A. W., Hassidim, A., & Lloyd, S. (2009). Quantum algorithm for linear systems of equations. Physical Review Letters, 103(15), 150502. https://doi.org/10.1103/PhysRevLett.103.150502\n",
    "4. Ville Bergholm, Josephine Sullivan, et al. (2025, February 26). Solving systems of linear equations via HHL using Qrisp and Catalyst. PennyLane QML Demos. Retrieved from https://pennylane.ai/qml/demos/linear_equations_hhl_qrisp_catalyst"
   ]
  }
 ],
 "metadata": {
  "kernelspec": {
   "display_name": "Python 3",
   "language": "python",
   "name": "python3"
  },
  "language_info": {
   "codemirror_mode": {
    "name": "ipython",
    "version": 3
   },
   "file_extension": ".py",
   "mimetype": "text/x-python",
   "name": "python",
   "nbconvert_exporter": "python",
   "pygments_lexer": "ipython3",
   "version": "3.9.13"
  }
 },
 "nbformat": 4,
 "nbformat_minor": 5
}
