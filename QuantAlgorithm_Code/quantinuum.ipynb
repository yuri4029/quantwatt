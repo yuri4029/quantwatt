{
 "cells": [
  {
   "cell_type": "code",
   "execution_count": 1,
   "id": "ebd510d6",
   "metadata": {},
   "outputs": [
    {
     "name": "stdout",
     "output_type": "stream",
     "text": [
      "🌐 Browser log in initiated.\n"
     ]
    },
    {
     "data": {
      "text/html": [
       "<pre style=\"white-space:pre;overflow-x:auto;line-height:normal;font-family:Menlo,'DejaVu Sans Mono',consolas,'Courier New',monospace\">╭────────────────────────────────────────────────────────────────────────────────────────╮\n",
       "│                                                                                        │\n",
       "│         Confirm that the browser shows the following code and click 'allow device':    │\n",
       "│                                                                                        │\n",
       "│                                      aZYQr5                                            │\n",
       "│                                                                                        │\n",
       "╰────────────────────────────────────────────────────────────────────────────────────────╯\n",
       "</pre>\n"
      ],
      "text/plain": [
       "╭────────────────────────────────────────────────────────────────────────────────────────╮\n",
       "│                                                                                        │\n",
       "│         Confirm that the browser shows the following code and click 'allow device':    │\n",
       "│                                                                                        │\n",
       "│                                      aZYQr5                                            │\n",
       "│                                                                                        │\n",
       "╰────────────────────────────────────────────────────────────────────────────────────────╯\n"
      ]
     },
     "metadata": {},
     "output_type": "display_data"
    },
    {
     "name": "stdout",
     "output_type": "stream",
     "text": [
      "Browser didn't open automatically? Use this link: \u001b[34mhttps://nexus.quantinuum.com/auth/device/browser?otp=aZYQr5HR4j4F4kIAvKqOzp6jIxqcnIeiGamjWGXUpjCgMf2O4bklPaTKFAmqMYPdXyTa4A46DJWtrylqZzawKw\n",
      "✅ Successfully logged in as tranminh1831996@gmail.com using the browser.\n"
     ]
    }
   ],
   "source": [
    "import qnexus as qnx\n",
    "qnx.login()"
   ]
  },
  {
   "cell_type": "code",
   "execution_count": 2,
   "id": "0bb1977b",
   "metadata": {},
   "outputs": [
    {
     "data": {
      "text/plain": [
       "[H q[0]; CX q[0], q[1]; Measure q[0] --> c[0]; Measure q[1] --> c[1]; ]"
      ]
     },
     "execution_count": 2,
     "metadata": {},
     "output_type": "execute_result"
    }
   ],
   "source": [
    "from pytket.circuit import Circuit\n",
    "circuit = Circuit(2,2)\n",
    "circuit.H(0)\n",
    "circuit.CX(0,1)\n",
    "circuit.measure_all()"
   ]
  },
  {
   "cell_type": "code",
   "execution_count": null,
   "id": "d12aa87e",
   "metadata": {},
   "outputs": [],
   "source": [
    "import qnexus as qnx\n",
    "import datetime\n",
    "\n",
    "config = qnx.QuantinuumConfig(device_name=\"H1-Emulator\")\n",
    "\n",
    "project = qnx.projects.get_or_create(\"MCMR\")\n",
    "qnx.context.set_active_project(project)\n",
    "name_suffix = datetime.datetime.now().strftime(\"%Y_%m_%d\")\n",
    "\n",
    "ref_circuit = qnx.circuits.upload(\n",
    "    circuit=circuit,\n",
    "    name=f\"repetition-code-circuit-{name_suffix}\",\n",
    "    description=\"TKET circuit for[[3,1,1]] code\"\n",
    ")\n",
    "\n",
    "ref_compile_job = qnx.start_compile_job(\n",
    "    circuits=[ref_circuit],\n",
    "    optimisation_level=0,\n",
    "    backend_config=config,\n",
    "    name=f\"compile-job-{name_suffix}\"\n",
    ")\n",
    "\n",
    "qnx.jobs.wait_for(ref_compile_job)\n",
    "\n",
    "n_shots=100\n",
    "ref_compile_job = qnx.start_compile_job(\n",
    "    circuits=[ref_circuit],\n",
    "    optimisation_level=0,\n",
    "    backend_config=config,\n",
    "    name=f\"compile-job-{name_suffix}\"\n",
    ")\n",
    "\n",
    "#ref_compile_circuit = qnx.jobs.results(ref_compile_job)[0].get"
   ]
  },
  {
   "cell_type": "code",
   "execution_count": null,
   "id": "6f819fb9",
   "metadata": {},
   "outputs": [],
   "source": []
  }
 ],
 "metadata": {
  "kernelspec": {
   "display_name": "Python 3",
   "language": "python",
   "name": "python3"
  },
  "language_info": {
   "codemirror_mode": {
    "name": "ipython",
    "version": 3
   },
   "file_extension": ".py",
   "mimetype": "text/x-python",
   "name": "python",
   "nbconvert_exporter": "python",
   "pygments_lexer": "ipython3",
   "version": "3.12.5"
  }
 },
 "nbformat": 4,
 "nbformat_minor": 5
}
