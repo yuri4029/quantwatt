{
 "cells": [
  {
   "cell_type": "code",
   "execution_count": 333,
   "id": "84e6fc57",
   "metadata": {},
   "outputs": [],
   "source": [
    "# Pennylane\n",
    "import pennylane as qml\n",
    "from pennylane import numpy as np\n",
    "from scipy.linalg import expm\n",
    "# Plotting\n",
    "import matplotlib.pyplot as plt"
   ]
  },
  {
   "cell_type": "markdown",
   "id": "b2b2001c",
   "metadata": {},
   "source": [
    "# Setting of the main hyper-parameters of the model"
   ]
  },
  {
   "cell_type": "code",
   "execution_count": 405,
   "id": "b220a7ed",
   "metadata": {},
   "outputs": [],
   "source": [
    "n_qubits = 1  # Number of system qubits.\n",
    "n_shots = 10 ** 6  # Number of quantum measurements.\n",
    "\n",
    "# Hyper-parameters for the HHL algorithm\n",
    "phase_qubits = 4 # Number of qubits used for phase estimation.\n",
    "ancilla_qubit = 1 # Number of ancillary qubits used for eigenvalue encoding amplitude\n",
    "tot_qubits_HHL = n_qubits + phase_qubits + ancilla_qubit # Total number of qubits (system + ancillary + QPE qubits).\n",
    "\n",
    "# Hybrid algorithm hyper-parameters\n",
    "ancilla_idx = n_qubits  # Index of the one ancillary qubit (last position).\n",
    "tot_qubits_VQLS = n_qubits + 1  # Total number of qubits (system + ancillary).\n",
    "steps = 50  # Number of optimization steps\n",
    "eta = 0.8  # Learning rate\n",
    "rng_seed = 0  # Seed for random number generator\n",
    "dim = 2 ** n_qubits  # Dimension of the problem space\n",
    "epsilon = 1e-6  # threshold for convergence"
   ]
  },
  {
   "cell_type": "code",
   "execution_count": null,
   "id": "e37eb2ac",
   "metadata": {},
   "outputs": [],
   "source": [
    "# For the HHL algorithm, we need to define the phase estimation wires and target wires.\n",
    "# Assume phase_wires and target_wire are defined as in previous cells\n",
    "phase_wires = range(phase_qubits)  # Phase estimation wires\n",
    "target_wires = range(phase_qubits, phase_qubits + n_qubits)  # Target wires\n",
    "ancilla_wires = range(phase_qubits + n_qubits, phase_qubits + n_qubits + ancilla_qubit)  # Ancilla wires"
   ]
  },
  {
   "cell_type": "code",
   "execution_count": 336,
   "id": "435c0adf",
   "metadata": {},
   "outputs": [],
   "source": [
    "# Specified power injections (Sbus)\n",
    "# Bus 1: Slack → value not used for mismatch (can set to 0)\n",
    "# Bus 2: PQ bus with P=10 MW, Q=0\n",
    "# Bus 3: PQ bus with P=-15 MW, Q=-5 MVAr\n",
    "Sbus = [0+0j, 0.1+0j, -0.15-0.05j]\n",
    "\n",
    "# Ybus matrix for 3-bus system (from the paper's example)\n",
    "Ybus = np.array([\n",
    "    [0 - 2j, 0 + 1j, 0 + 1j],\n",
    "    [0 + 1j, 0 - 1.5j, 0 + 0.5j],\n",
    "    [0 + 1j, 0 + 0.5j, 0 - 1.5j]\n",
    "])"
   ]
  },
  {
   "cell_type": "code",
   "execution_count": null,
   "id": "295403a7",
   "metadata": {},
   "outputs": [],
   "source": [
    "B_prime = np.array([[-1.5, 0.5],\n",
    "           [0.5, -1.5]], dtype=np.complex128)\n",
    "\n",
    "B_double_prime = np.array([[-1.5, 0.5],\n",
    "                  [0.5, -1.5]], dtype=np.complex128)\n",
    "# These matrix need to be redefiend to be a positive deifined matrix"
   ]
  },
  {
   "cell_type": "markdown",
   "id": "41138a21",
   "metadata": {},
   "source": [
    "# HHL algorithm"
   ]
  },
  {
   "cell_type": "code",
   "execution_count": 338,
   "id": "8cdb440d",
   "metadata": {},
   "outputs": [],
   "source": [
    "def apply_unitary(A_matrix,wires):\n",
    "    # Compute the unitary U = exp(iA)\n",
    "    U = expm(1j * A_matrix)\n",
    "    # Apply the unitary operation to the specified wires\n",
    "    qml.QubitUnitary(U, wires=wires)\n",
    "\n",
    "# Define the quantum phase estimation circuit\n",
    "def qpe_circuit(A_matrix, phase_wires, target_wire): \n",
    "    # Initialize target in eigenstate of U\n",
    "    # qml.Hadamard(wires=target_wire)\n",
    "\n",
    "    # Apply Hadamards to phase register\n",
    "    for w in phase_wires:\n",
    "        qml.Hadamard(wires=w)\n",
    "\n",
    "    # Apply controlled-U^{2^k}\n",
    "    apply_unitary_powers = [2 ** i for i in range(len(phase_wires))]\n",
    "\n",
    "    for i, power in enumerate(apply_unitary_powers):\n",
    "        for _ in range(power):\n",
    "            qml.ctrl(apply_unitary, control=phase_wires[::-1][i])(A_matrix = A_matrix,wires=target_wire)\n",
    "\n",
    "    # Apply inverse QFT\n",
    "    qml.adjoint(qml.QFT)(wires=phase_wires)\n",
    "\n",
    "# Define the controlled fractional rotation operation\n",
    "def AQE_fractional_rotation(control_wires, target_wire):\n",
    "    \"\"\"Apply controlled RY rotation based on fractional binary interpretation of control qubits.\"\"\"\n",
    "    n = len(control_wires)\n",
    "\n",
    "    for d in range(1, 2**n):  # skip d=0 to avoid divide-by-zero\n",
    "        # Convert decimal to binary string to run all possible state\n",
    "        bin_str = f\"{d:0{n}b}\"\n",
    "        # Convert binary string to list of bits for controlled rotation\n",
    "        bit_strings = [int(bit) for bit in bin_str]\n",
    "        # Compute fractional binary value: d = sum x_j * 2^-j\n",
    "        fractional_d = sum(int(bit) * 2**-(j+1) for j, bit in enumerate(bin_str))\n",
    "        # Compute the inverse of the fractional value\n",
    "        inv = 1 / fractional_d\n",
    "        # Normalize to [0, 1] range\n",
    "        inv = inv / (2 ** n)\n",
    "        # Convert to angle for RY gate, the state |0> amplitude corresponds to inv value\n",
    "        theta = np.arccos(inv) * 2  # 2*theta for full RY\n",
    "        # Apply controlled RY rotation on target wire controling on control wires\n",
    "        qml.ctrl(qml.RY, control=control_wires, control_values=bit_strings)(theta,wires=target_wire)"
   ]
  },
  {
   "cell_type": "code",
   "execution_count": 339,
   "id": "b74df750",
   "metadata": {},
   "outputs": [],
   "source": [
    "dev = qml.device(\"default.qubit\", wires=tot_qubits_HHL)\n",
    "@qml.qnode(dev)\n",
    "def hhl_circuit(A_matrix,vector):\n",
    "    # 1. Initialize the target qubit\n",
    "    # Normalize the input vector\n",
    "    norm_vector = vector / np.linalg.norm(vector)\n",
    "    # Initialize the quantum state to the normalized vector on the target wires\n",
    "    qml.QubitStateVector(norm_vector, wires=target_wires)\n",
    "    # for target_wire in target_wires:\n",
    "    #     qml.Hadamard(wires=target_wire) # in this example, |b> = U_b |0> = H_0 H_1 ... |0>\n",
    "\n",
    "    # 2. Apply QPE (Quantum Phase Estimation)\n",
    "    qpe_circuit(A_matrix, phase_wires, target_wires)\n",
    "\n",
    "    # 3. Apply AQE fractional rotation (controlled RY based on phase_wires)\n",
    "    AQE_fractional_rotation(phase_wires, ancilla_wires)\n",
    "\n",
    "    # 4. Apply inverse QPE (adjoint of QPE)\n",
    "    qml.adjoint(qpe_circuit)(A_matrix, phase_wires, target_wires)\n",
    "\n",
    "    # 5. Measure the target qubit\n",
    "    probs = qml.probs(wires= [*target_wires,*ancilla_wires])\n",
    "    return probs\n",
    "\n",
    "def hhl_al(A_matrix, vector):\n",
    "    probs = hhl_circuit(A_matrix, vector)\n",
    "    #6. Get indices where ancilla qubit is 0 (i.e., even indices)\n",
    "    ancil_position = tot_qubits_HHL - ancilla_wires[0] - 1  # Assuming ancilla_wires is a list with one element\n",
    "    ancilla_zero_indices = [i for i in range(len(probs)) if (i & 2**ancil_position) == 0]\n",
    "    # Filter probabilities where ancilla qubit is in |0>\n",
    "    probs_ancilla0 = probs[ancilla_zero_indices]\n",
    "    # Normalize the filtered probabilities ???\n",
    "    probs_ancilla0_normalized = probs_ancilla0 / np.sum(probs_ancilla0) # * np.linalg.norm(vector)**2  \n",
    "    \n",
    "    return probs_ancilla0_normalized"
   ]
  },
  {
   "cell_type": "markdown",
   "id": "4e723dea",
   "metadata": {},
   "source": [
    "# Variational quantum linear solver"
   ]
  },
  {
   "cell_type": "code",
   "execution_count": 367,
   "id": "68d5470f",
   "metadata": {},
   "outputs": [],
   "source": [
    "def U_b(vector):\n",
    "    \"\"\"Unitary matrix rotating the ground state to the problem vector |b> = U_b |0>.\"\"\"\n",
    "    # Normalize the input vector\n",
    "    norm_vector = vector / np.linalg.norm(vector)\n",
    "    # Initialize the quantum state to the normalized vector on the target wires\n",
    "    qml.QubitStateVector(norm_vector, wires=[i for i in range(n_qubits)])\n",
    "    # for idx in range(n_qubits):\n",
    "    #     qml.Hadamard(wires=idx)\n",
    "\n",
    "def CA_gate(idx, ancilla_idx, hamiltonian):\n",
    "    \"\"\"Controlled versions of the unitary components A_idx of the problem matrix A.\"\"\"\n",
    "    if n_qubits == 1:\n",
    "        if hamiltonian.ops[idx].name == 'Identity':\n",
    "            return  # Idientity operation, do nothing\n",
    "        elif hamiltonian.ops[idx].name == 'PauliX':\n",
    "            qml.CNOT(wires=[ancilla_idx, 0]) # Apply X gate \n",
    "        elif hamiltonian.ops[idx].name == 'PauliZ':\n",
    "            qml.CZ(wires=[ancilla_idx, 0]) # Apply Z gate\n",
    "        elif hamiltonian.ops[idx].name == 'PauliY':\n",
    "            qml.CY(wires=[ancilla_idx, 0]) # Apply Y gate\n",
    "    else:\n",
    "        for i in range(n_qubits):\n",
    "            if hamiltonian.ops[idx][i].name == 'Identity':\n",
    "                continue    # Idientity operation, do nothing\n",
    "            elif hamiltonian.ops[idx][i].name == 'PauliX':\n",
    "                qml.CNOT(wires=[ancilla_idx, i]) # Apply X gate \n",
    "            elif hamiltonian.ops[idx][i].name == 'PauliZ':\n",
    "                qml.CZ(wires=[ancilla_idx, i]) # Apply Z gate\n",
    "            elif hamiltonian.ops[idx][i].name == 'PauliY':\n",
    "                qml.CY(wires=[ancilla_idx, i]) # Apply Y gate\n"
   ]
  },
  {
   "cell_type": "code",
   "execution_count": 375,
   "id": "2cbd0444",
   "metadata": {},
   "outputs": [],
   "source": [
    "def variational_block(weights):\n",
    "    '''Variational block for the real amplitude ansatz, applying RY rotations and CNOTs in a linear entanglement pattern.'''\n",
    "    depth = len(weights) // n_qubits\n",
    "\n",
    "    param_index = 0\n",
    "    for _ in range(depth):\n",
    "        # Step 1: Apply RY rotations\n",
    "        for i in range(n_qubits):\n",
    "            qml.RY(weights[param_index], wires=i)\n",
    "            param_index += 1\n",
    "\n",
    "        # Step 2: Apply entangling CNOTs (linear)\n",
    "        for i in range(n_qubits - 1):\n",
    "            qml.CNOT(wires=[i, i+1])"
   ]
  },
  {
   "cell_type": "code",
   "execution_count": 376,
   "id": "37a3a2b2",
   "metadata": {},
   "outputs": [],
   "source": [
    "dev_mu = qml.device(\"default.qubit\", wires= tot_qubits_VQLS)\n",
    "@qml.qnode(dev_mu, interface=\"autograd\")\n",
    "def local_hadamard_test(weights, l=None, lp=None, j=None, part=None):\n",
    "    \"\"\"Local Hadamard test for estimating the expectation value of a Hermitian operator.\"\"\"\n",
    "    # First Hadamard gate applied to the ancillary qubit.\n",
    "    qml.Hadamard(wires=ancilla_idx)\n",
    "\n",
    "    # For estimating the imaginary part of the coefficient \"lambda\", we must add a \"-i\"\n",
    "    # phase gate.\n",
    "    if part == \"Im\" or part == \"im\":\n",
    "        qml.PhaseShift(-np.pi / 2, wires=ancilla_idx)\n",
    "\n",
    "    # Variational circuit generating a guess for the solution vector |x>\n",
    "    variational_block(weights)\n",
    "\n",
    "    # Controlled application of the unitary component A_l of the problem matrix A.\n",
    "    # CA(l) # Manual defined operators for specific A\n",
    "    CA_gate(l, ancilla_idx, hamiltonian) # Generalized operators for a Hermitian A\n",
    "\n",
    "    # Adjoint of the unitary U_b associated to the problem vector |b>.\n",
    "    U_b(Init_vector) # In this specific example Adjoint(U_b) = U_b.\n",
    "\n",
    "    # Controlled Z operator at position j. If j = -1, apply the identity.\n",
    "    if j != -1:\n",
    "        qml.CZ(wires=[ancilla_idx, j])\n",
    "\n",
    "    # Unitary U_b associated to the problem vector |b>.\n",
    "    U_b(Init_vector)\n",
    "\n",
    "    # Controlled application of Adjoint(A_lp).\n",
    "    # In this specific example Adjoint(A_lp) = A_lp.\n",
    "    # CA(lp) # Manual defined operators for specific A\n",
    "    CA_gate(lp, ancilla_idx, hamiltonian) # Generalized operators for a Hermitian A\n",
    "    \n",
    "    # Second Hadamard gate applied to the ancillary qubit.\n",
    "    qml.Hadamard(wires=ancilla_idx)\n",
    "\n",
    "    # Expectation value of Z for the ancillary qubit.\n",
    "    return qml.expval(qml.PauliZ(wires=ancilla_idx))\n",
    "\n",
    "def mu(weights, l=None, lp=None, j=None):\n",
    "    \"\"\"Generates the coefficients to compute the \"local\" cost function C_L.\"\"\"\n",
    "\n",
    "    mu_real = local_hadamard_test(weights, l=l, lp=lp, j=j, part=\"Re\")\n",
    "    mu_imag = local_hadamard_test(weights, l=l, lp=lp, j=j, part=\"Im\")\n",
    "\n",
    "    return mu_real + 1.0j * mu_imag\n",
    "\n",
    "def psi_norm(weights):\n",
    "    \"\"\"Returns the normalization constant <psi|psi>, where |psi> = A |x>.\"\"\"\n",
    "    norm = 0.0\n",
    "\n",
    "    for l in range(0, len(coupling)):\n",
    "        for lp in range(0, len(coupling)):\n",
    "            norm = norm + coupling[l] * np.conj(coupling[lp]) * mu(weights, l, lp, -1)\n",
    "\n",
    "    return abs(norm)\n",
    "\n",
    "def cost_loc(weights):\n",
    "    \"\"\"Local version of the cost function. Tends to zero when A|x> is proportional to |b>.\"\"\"\n",
    "    mu_sum = 0.0\n",
    "    \n",
    "    for l in range(0, len(coupling)):\n",
    "        for lp in range(0, len(coupling)):\n",
    "            for j in range(0, n_qubits):\n",
    "                mu_sum = mu_sum + coupling[l] * np.conj(coupling[lp]) * mu(weights, l, lp, j)\n",
    "\n",
    "    mu_sum = abs(mu_sum)\n",
    "\n",
    "    # Cost function C_L\n",
    "    return 0.5 - 0.5 * mu_sum / (n_qubits * psi_norm(weights))"
   ]
  },
  {
   "cell_type": "code",
   "execution_count": 398,
   "id": "a3d95d48",
   "metadata": {},
   "outputs": [],
   "source": [
    "def VQLS(init_weights, steps=steps, eta=eta):\n",
    "    \"\"\"Variational Quantum Linear Solver (VQLS) algorithm.\"\"\"\n",
    "    # Set the random seed\n",
    "    np.random.seed(rng_seed)\n",
    "    # Define the optimizer\n",
    "    opt = qml.GradientDescentOptimizer(eta)\n",
    "    # Variational optimization loop\n",
    "    cost_history = []\n",
    "    w = init_weights\n",
    "    for it in range(steps):\n",
    "        if cost_loc(w) > epsilon:  # Continue until cost is sufficiently low\n",
    "            w, cost = opt.step_and_cost(cost_loc, w)\n",
    "            print(\"Step {:3d}       Cost_L = {:9.7f}\".format(it, cost))\n",
    "            cost_history.append(cost)\n",
    "        else:\n",
    "            break\n",
    "    return w, cost_history"
   ]
  },
  {
   "cell_type": "markdown",
   "id": "f2f3f485",
   "metadata": {},
   "source": [
    "# Quantum Power Flow Algorithm"
   ]
  },
  {
   "cell_type": "markdown",
   "id": "f8518c94",
   "metadata": {},
   "source": [
    "Where it is based on Fast Decouple Load Flow method"
   ]
  },
  {
   "cell_type": "code",
   "execution_count": 212,
   "id": "09989640",
   "metadata": {},
   "outputs": [],
   "source": [
    "def CLS(matrix, vector):\n",
    "    \"\"\"Classical solver for linear equations.\"\"\"\n",
    "    A = np.array(matrix)\n",
    "    b = np.array(vector)\n",
    "    x = np.linalg.solve(A, b)\n",
    "    return x.tolist()"
   ]
  },
  {
   "cell_type": "code",
   "execution_count": 213,
   "id": "f7c3559d",
   "metadata": {},
   "outputs": [],
   "source": [
    "def calc_mismatch(Vthe_slack,Vm, theta, Ybus, Sbus):\n",
    "    \"\"\"\n",
    "    Calculate ΔP and ΔQ: power mismatches between specified and calculated values. \n",
    "    **!!This function computes for the PQ buses and 1 slack bus.\n",
    "    \n",
    "    Args:\n",
    "        Vthe_slack (float): Voltage magnitude and angle of the slack bus (V, Θ)\n",
    "        Vm (list): Voltage magnitudes [V2, V3, ..., Vn]\n",
    "        theta (list): Voltage angles [Θ2, Θ3, ..., Θn] in radians\n",
    "        Ybus (ndarray): n x n complex admittance matrix\n",
    "        Sbus (list): Specified complex power injections [S1, S2, ..., Sn] (P + jQ)\n",
    "        \n",
    "    Returns:\n",
    "        ΔP (list): Active power mismatch\n",
    "        ΔQ (list): Reactive power mismatch\n",
    "    \"\"\"\n",
    "    # Insert slack bus voltage and angle at the beginning of Vm and theta\n",
    "    Vm = [Vthe_slack[0]] + list(Vm)\n",
    "    theta = [Vthe_slack[1]] + list(theta)\n",
    "    n = len(Vm)\n",
    "    ΔP = []\n",
    "    ΔQ = []\n",
    "    # Loop through each bus\n",
    "    for i in range(1,n):\n",
    "        Pi_calc = 0\n",
    "        Qi_calc = 0\n",
    "        \n",
    "        for k in range(n):\n",
    "            Vi = Vm[i]\n",
    "            Vk = Vm[k]\n",
    "            θik = theta[k] - theta[i]\n",
    "            Yik = Ybus[i, k]\n",
    "            Gik = Yik.real\n",
    "            Bik = Yik.imag\n",
    "            # Power flow equations\n",
    "            Pi_calc += Vi * Vk * (Gik * np.cos(θik) + Bik * np.sin(θik))\n",
    "            Qi_calc += Vi * Vk * (Gik * np.sin(θik) - Bik * np.cos(θik))\n",
    "        # Given power injections\n",
    "        Pi_spec = Sbus[i].real\n",
    "        Qi_spec = Sbus[i].imag\n",
    "        # Calculate mismatches\n",
    "        ΔP.append(Pi_spec - Pi_calc)\n",
    "        ΔQ.append(Qi_spec - Qi_calc)\n",
    "\n",
    "    return ΔP, ΔQ"
   ]
  },
  {
   "cell_type": "code",
   "execution_count": 347,
   "id": "6de20c14",
   "metadata": {},
   "outputs": [],
   "source": [
    "def quantum_power_flow(Ybus, B_prime, B_double_prime, V0, Vthe_slack, Sbus, xi=1e-5, quantum_model ='HHL'):\n",
    "    # Voltage magnitudes\n",
    "    Vm_Q = V0.copy()  # For quantum model\n",
    "    Vm_C = V0.copy()  # For classical model       \n",
    "    # Initial angles (rad)\n",
    "    theta_C = [0.0 for _ in V0] # For classical model\n",
    "    theta_Q = [0.0 for _ in V0] # For quantum model\n",
    "    # Negate B matrices for HHL, as HHL requires positive definite matrices\n",
    "    B_prime = -np.array(B_prime)\n",
    "    B_double_prime = -np.array(B_double_prime)\n",
    "    # Calculate initial mismatches\n",
    "    ΔP_C, ΔQ_C = calc_mismatch(Vthe_slack, Vm_C, theta_C, Ybus, Sbus) # For classical model\n",
    "    ΔP_Q, ΔQ_Q = calc_mismatch(Vthe_slack, Vm_Q, theta_Q, Ybus, Sbus) # For quantum model\n",
    "    print(\"Initial mismatches (Classical):\", ΔP_C, ΔQ_C)    \n",
    "    print(\"Initial mismatches (Quantum):\", ΔP_Q, ΔQ_Q)\n",
    "    # Iteratively solve until mismatches are within tolerance\n",
    "    # xi is the convergence threshold   \n",
    "    while np.linalg.norm(ΔP_C) >= xi or np.linalg.norm(ΔQ_C) >= xi:\n",
    "        ΔP_C = np.array(ΔP_C)\n",
    "        ΔQ_C = np.array(ΔQ_C) \n",
    "        ΔP_Q = np.array(ΔP_Q)\n",
    "        ΔQ_Q = np.array(ΔQ_Q)\n",
    "        Δθ_C  = CLS(B_prime, ΔP_C)\n",
    "        ΔVm_C = CLS(B_double_prime, ΔQ_C)\n",
    "        print(\"Classical model updates:\", ΔVm_C, Δθ_C)\n",
    "        \n",
    "        # If quantum model is HHL, use the quantum circuit to solve for updates\n",
    "        if quantum_model == 'HHL':\n",
    "            # Use HHL circuit to solve for voltage angle and magnitude updates\n",
    "            Δθ_Q = hhl_al(B_prime, ΔP_Q)\n",
    "            sign_delta_theta = np.sign(CLS(B_prime, ΔP_Q))\n",
    "            Δθ_Q = sign_delta_theta * Δθ_Q\n",
    "            ΔVm_Q = hhl_al(B_double_prime, ΔQ_Q)\n",
    "            sign_delta_Vm = np.sign(CLS(B_double_prime, ΔQ_Q))\n",
    "            ΔVm_Q = sign_delta_Vm * ΔVm_Q\n",
    "            print(\"Quantum model updates:\", ΔVm_Q, Δθ_Q)\n",
    "        # Update values\n",
    "        # Classical model updates\n",
    "        Vm_C = [Vm_C[i] + ΔVm_C[i] for i in range(len(Vm_C))]\n",
    "        theta_C = [theta_C[i] + Δθ_C[i] for i in range(len(theta_C))]\n",
    "        # Quantum model updates\n",
    "        Vm_Q = [Vm_Q[i] + ΔVm_Q[i] for i in range(len(Vm_Q))]\n",
    "        theta_Q = [theta_Q[i] + Δθ_Q[i] for i in range(len(theta_Q))]\n",
    "    \n",
    "        \n",
    "        # Recalculate mismatches\n",
    "        ΔP_C, ΔQ_C = calc_mismatch(Vthe_slack, Vm_C, theta_C, Ybus, Sbus)\n",
    "        ΔP_Q, ΔQ_Q = calc_mismatch(Vthe_slack, Vm_Q, theta_Q, Ybus, Sbus)\n",
    "\n",
    "    # Return final voltage magnitudes and angles for both models\n",
    "    # Vm_C, theta_C for classical model\n",
    "    # Vm_Q, theta_Q for quantum model\n",
    "    return Vm_C, theta_C, Vm_Q, theta_Q\n"
   ]
  },
  {
   "cell_type": "code",
   "execution_count": 352,
   "id": "8799aea4",
   "metadata": {},
   "outputs": [
    {
     "name": "stdout",
     "output_type": "stream",
     "text": [
      "Initial mismatches (Classical): [tensor(0.1, requires_grad=True), tensor(-0.15, requires_grad=True)] [tensor(0.03, requires_grad=True), tensor(-0.02, requires_grad=True)]\n",
      "Initial mismatches (Quantum): [tensor(0.1, requires_grad=True), tensor(-0.15, requires_grad=True)] [tensor(0.03, requires_grad=True), tensor(-0.02, requires_grad=True)]\n",
      "Classical model updates: [(0.017500000000000022+0j), (-0.0074999999999999754+0j)] [(0.037500000000000006+0j), (-0.0875+0j)]\n",
      "Quantum model updates: [ 0.8220759+0.j -0.1779241+0.j] [ 0.1779241+0.j -0.8220759+0.j]\n",
      "Classical model updates: [(-0.005563745765034201+0j), (-0.007338292797754022+0j)] [(0.07611133316895426+0j), (-0.17615457163428294+0j)]\n",
      "Quantum model updates: [-0.81463059+0.j -0.18536941+0.j] [ 0.25805202+0.j -0.74194798+0.j]\n",
      "Classical model updates: [(-0.04347021796732238+0j), (-0.0563280871277858+0j)] [(0.1518213703060315+0j), (-0.34810535961809197+0j)]\n",
      "Quantum model updates: [-0.48111737+0.j -0.51888263+0.j] [ 0.25578071+0.j -0.74421929+0.j]\n",
      "Classical model updates: [(-0.1859099296645086+0j), (-0.24421179241466934+0j)] [(0.26932243429095304+0j), (-0.6070868827073287+0j)]\n",
      "Quantum model updates: [-0.24037126+0.j -0.75962874+0.j] [ 0.89954382+0.j -0.10045618+0.j]\n",
      "Classical model updates: [(-0.34500446505603466+0j), (-0.48744742089544585+0j)] [(0.31180712645293857+0j), (-0.6129642007156748+0j)]\n",
      "Quantum model updates: [-0.39934237+0.j -0.60065763+0.j] [0.63529204+0.j 0.36470796+0.j]\n",
      "Classical model updates: [(-0.07020389600455537+0j), (-0.1562794939894946+0j)] [(0.2512556654651944+0j), (-0.15990520403277267+0j)]\n",
      "Quantum model updates: [-0.16701819+0.j -0.83298181+0.j] [0.14945236+0.j 0.85054764+0.j]\n",
      "Classical model updates: [(-0.04747215136355091+0j), (-0.06730451884064004+0j)] [(0.2807060528849508+0j), (-0.03232194853927652+0j)]\n",
      "Quantum model updates: [-0.18221423+0.j -0.81778577+0.j] [0.12543224+0.j 0.87456776+0.j]\n",
      "Classical model updates: [(-0.07359426547627818+0j), (-0.04790081997174899+0j)] [(0.28670916551184156+0j), (0.011146750612914827+0j)]\n",
      "Quantum model updates: [-0.1877252+0.j -0.8122748+0.j] [0.19248159+0.j 0.80751841+0.j]\n",
      "Classical model updates: [(-0.08469577532706375+0j), (-0.040013193963148015+0j)] [(0.24653855372648398+0j), (0.02518190345180745+0j)]\n",
      "Quantum model updates: [-0.18528725+0.j -0.81471275+0.j] [-0.07651974+0.j -0.92348026+0.j]\n",
      "Classical model updates: [(-0.06988792813143371+0j), (-0.03343825587225602+0j)] [(0.18522982693610204+0j), (0.029288525634953457+0j)]\n",
      "Quantum model updates: [-0.19804358+0.j -0.80195642+0.j] [0.13093222+0.j 0.86906778+0.j]\n",
      "Classical model updates: [(-0.04720561407590602+0j), (-0.02979172619351781+0j)] [(0.13666171596363996+0j), (0.035913099717431576+0j)]\n",
      "Quantum model updates: [-0.19407493+0.j -0.80592507+0.j] [ 0.06410616+0.j -0.93589384+0.j]\n",
      "Classical model updates: [(-0.029863363200574006+0j), (-0.03142066738848529+0j)] [(0.1091900682051733+0j), (0.0486171212159294+0j)]\n",
      "Quantum model updates: [-0.20388699+0.j -0.79611301+0.j] [0.07602033+0.j 0.92397967+0.j]\n",
      "Classical model updates: [(-0.02021237001392794+0j), (-0.040426526875480324+0j)] [(0.09762696586914454+0j), (0.06860070925600933+0j)]\n",
      "Quantum model updates: [-0.20138822+0.j -0.79861178+0.j] [ 0.07255836+0.j -0.92744164+0.j]\n",
      "Classical model updates: [(-0.017955883515401935+0j), (-0.061936960098383995+0j)] [(0.09686973866920291+0j), (0.09927280041392357+0j)]\n",
      "Quantum model updates: [-0.20761429+0.j -0.79238571+0.j] [-0.06420101+0.j  0.93579899+0.j]\n",
      "Classical model updates: [(-0.025356853362983822+0j), (-0.11100082553469783+0j)] [(0.10497208037347658+0j), (0.14900354320056636+0j)]\n",
      "Quantum model updates: [-0.20539586+0.j -0.79460414+0.j] [ 0.09148134+0.j -0.90851866+0.j]\n",
      "Classical model updates: [(-0.05548369708596913+0j), (-0.23757344188143736+0j)] [(0.12365891693914795+0j), (0.23719527482215708+0j)]\n",
      "Quantum model updates: [-0.21126268+0.j -0.78873732+0.j] [-0.07023484+0.j  0.92976516+0.j]\n",
      "Classical model updates: [(-0.17544871276778373+0j), (-0.6533016850421214+0j)] [(0.1585746418255516+0j), (0.41039975239208193+0j)]\n",
      "Quantum model updates: [-0.20852893+0.j -0.79147107+0.j] [ 0.11287346+0.j -0.88712654+0.j]\n",
      "Classical model updates: [(-0.8853173448879057+0j), (-2.701107528649248+0j)] [(0.1991565756818679+0j), (0.7561861515683044+0j)]\n",
      "Quantum model updates: [-0.21414699+0.j -0.78585301+0.j] [-0.08503601+0.j  0.91496399+0.j]\n",
      "Classical model updates: [(-10.021692457078823+0j), (-23.757705499763706+0j)] [(0.021395766901280106+0j), (0.538248913873931+0j)]\n",
      "Quantum model updates: [-0.21107474+0.j -0.78892526+0.j] [ 0.13344876+0.j -0.86655124+0.j]\n",
      "Classical model updates: [(-572.1917306770786+0j), (-1075.8385327422925+0j)] [(26.29977457717547+0j), (-37.05264305127911+0j)]\n",
      "Quantum model updates: [-0.21652213+0.j -0.78347787+0.j] [-0.10814713+0.j  0.89185287+0.j]\n",
      "Classical model updates: [(-1158379.5480262344+0j), (-1817007.8004180086+0j)] [(-22139.75628467172+0j), (21717.719388693004+0j)]\n",
      "Quantum model updates: [-0.21320268+0.j -0.78679732+0.j] [ 0.15317252+0.j -0.84682748+0.j]\n",
      "Classical model updates: [(-3554324323713.0664+0j), (-5026073702456.571+0j)] [(340635554704.8388+0j), (-340634321663.4818+0j)]\n",
      "Quantum model updates: [-0.21853822+0.j -0.78146178+0.j] [-0.13714882+0.j  0.86285118+0.j]\n",
      "Classical model updates: [(-1.4773586218221298e+25+0j), (-2.424474034446144e+25+0j)] [(3.0106865856148572e+23+0j), (-3.0106865856873422e+23+0j)]\n",
      "Quantum model updates: [-0.21501636+0.j -0.78498364+0.j] [ 0.17277102+0.j -0.82722898+0.j]\n",
      "Classical model updates: [(-3.6677322481600642e+50+0j), (-6.439346632834639e+50+0j)] [(7.455491772760959e+49+0j), (-7.455491772760961e+49+0j)]\n",
      "Quantum model updates: [-0.22028369+0.j -0.77971631+0.j] [-0.16772994+0.j  0.83227006+0.j]\n",
      "Classical model updates: [(-2.1225706423392804e+101+0j), (-4.2235400333596935e+101+0j)] [(-3.535718867277734e+100+0j), (3.535718867277734e+100+0j)]\n",
      "Quantum model updates: [-0.216585+0.j -0.783415+0.j] [ 0.19249634+0.j -0.80750366+0.j]\n",
      "Classical model updates: [(-1.5347930747643344e+203+0j), (-2.5347668958896904e+203+0j)] [(1.341911345169065e+202+0j), (-1.3419113451690653e+202+0j)]\n",
      "Quantum model updates: [-0.22181397+0.j -0.77818603+0.j] [-0.19602664+0.j  0.80397336+0.j]\n",
      "Voltage magnitudes (classical): [(-1.5347930747643344e+203+0j), (-2.5347668958896904e+203+0j)]\n",
      "Voltage angles (classical): [(1.341911345169065e+202+0j), (-1.3419113451690653e+202+0j)]\n",
      "Voltage magnitudes (quantum): [tensor(-4.41300982+0.j, requires_grad=True), tensor(-17.94283837+0.j, requires_grad=True)]\n",
      "Voltage angles (quantum): [tensor(2.98877526+0.j, requires_grad=True), tensor(0.52259318+0.j, requires_grad=True)]\n"
     ]
    },
    {
     "name": "stderr",
     "output_type": "stream",
     "text": [
      "C:\\Users\\PC\\AppData\\Local\\Packages\\PythonSoftwareFoundation.Python.3.9_qbz5n2kfra8p0\\LocalCache\\local-packages\\Python39\\site-packages\\pennylane\\numpy\\tensor.py:155: RuntimeWarning: invalid value encountered in multiply\n",
      "  res = super().__array_ufunc__(ufunc, method, *args, **kwargs)\n"
     ]
    }
   ],
   "source": [
    "Vm0 = [1, 1]\n",
    "Vthe_slack = [1.03, 0.0]  # Slack bus voltage magnitude and angle (V, Θ)\n",
    "\n",
    "Vm_C, theta_C, Vm_Q, theta_Q = quantum_power_flow(Ybus=Ybus, B_prime=B_prime, B_double_prime=B_double_prime,\n",
    "                               V0=Vm0, Vthe_slack=Vthe_slack, Sbus=Sbus, xi=1e-5)\n",
    "\n",
    "print(\"Voltage magnitudes (classical):\", Vm_C)\n",
    "print(\"Voltage angles (classical):\", theta_C)\n",
    "print(\"Voltage magnitudes (quantum):\", Vm_Q)\n",
    "print(\"Voltage angles (quantum):\", theta_Q)"
   ]
  },
  {
   "cell_type": "markdown",
   "id": "04c762b4",
   "metadata": {},
   "source": [
    "\n",
    "### ?? got stuck on the how to extract the sign and true value of solution vector from the normalized distribution"
   ]
  },
  {
   "cell_type": "markdown",
   "id": "3770fd8c",
   "metadata": {},
   "source": [
    "# Comparing Linear Solver Methods"
   ]
  },
  {
   "cell_type": "markdown",
   "id": "5da2fb6d",
   "metadata": {},
   "source": [
    "## VQSL running"
   ]
  },
  {
   "cell_type": "code",
   "execution_count": 406,
   "id": "d6d64366",
   "metadata": {},
   "outputs": [],
   "source": [
    "# Example: 2-qubit Hermitian matrix\n",
    "A = B_double_prime\n",
    "Init_vector = np.array([0.03,-0.02])   # Vector Initial state |b>\n",
    "# Ensure it's Hermitian\n",
    "assert np.allclose(A, A.conj().T)\n",
    "# Decompose the Hermitian matrix into Pauli operators\n",
    "hamiltonian = qml.pauli_decompose(A)\n",
    "# Coefficients of the linear combination A = c_0 A_0 + c_1 A_1 ...\n",
    "coupling = hamiltonian.coeffs\n",
    "layers_ansatz = 3  # Number of layers in the ansatz\n",
    "# Initialize the quantum weights\n",
    "init_weights = 0.01 * np.random.randn(n_qubits * layers_ansatz, requires_grad=True)"
   ]
  },
  {
   "cell_type": "code",
   "execution_count": 407,
   "id": "a61aaa61",
   "metadata": {},
   "outputs": [],
   "source": [
    "# Prepare a new quantum device for sampling define the associated qnode circuit\n",
    "dev_x = qml.device(\"default.qubit\", wires=tot_qubits_VQLS)\n",
    "\n",
    "@qml.qnode(dev_x, interface=\"autograd\")\n",
    "def prepare_and_sample(weights):\n",
    "\n",
    "    # Variational circuit generating a guess for the solution vector |x>\n",
    "    variational_block(weights)\n",
    "\n",
    "    # We assume that the system is measured in the computational basis.\n",
    "    # then sampling the device will give us a value of 0 or 1 for each qubit (n_qubits)\n",
    "    # this will be repeated for the total number of shots provided (n_shots)\n",
    "    return qml.probs(wires=range(n_qubits)) \n",
    "    # return qml.sample() "
   ]
  },
  {
   "cell_type": "code",
   "execution_count": 408,
   "id": "feaa3a53",
   "metadata": {},
   "outputs": [
    {
     "name": "stdout",
     "output_type": "stream",
     "text": [
      "Step   0       Cost_L = 0.0758124\n",
      "Step   1       Cost_L = 0.0090211\n",
      "Step   2       Cost_L = 0.0027078\n",
      "Step   3       Cost_L = 0.0009316\n",
      "Step   4       Cost_L = 0.0003400\n",
      "Step   5       Cost_L = 0.0001279\n",
      "Step   6       Cost_L = 0.0000490\n",
      "Step   7       Cost_L = 0.0000189\n",
      "Step   8       Cost_L = 0.0000074\n",
      "Step   9       Cost_L = 0.0000029\n",
      "Step  10       Cost_L = 0.0000011\n",
      "Quantum probabilities for VQLS: [0.84568857 0.15431143]\n"
     ]
    }
   ],
   "source": [
    "w, cost_history = VQLS(init_weights, steps=steps, eta=eta)\n",
    "# Generate the quantum state |x> and sample it\n",
    "# Using the variational weights w that we have previously optimized.\n",
    "probs_VQLS = prepare_and_sample(w)\n",
    "print(\"Quantum probabilities for VQLS:\", probs_VQLS)"
   ]
  },
  {
   "cell_type": "markdown",
   "id": "6651d709",
   "metadata": {},
   "source": [
    "<!-- ## HHL running -->"
   ]
  },
  {
   "cell_type": "markdown",
   "id": "c5793917",
   "metadata": {},
   "source": [
    "## HHL running"
   ]
  },
  {
   "cell_type": "code",
   "execution_count": 353,
   "id": "2bd8788b",
   "metadata": {},
   "outputs": [],
   "source": [
    "B_double_prime_HHL = -np.array(B_double_prime)"
   ]
  },
  {
   "cell_type": "code",
   "execution_count": 354,
   "id": "4467e4a0",
   "metadata": {},
   "outputs": [
    {
     "name": "stdout",
     "output_type": "stream",
     "text": [
      "Quantum probabilities from HHL: [0.8220759 0.1779241]\n"
     ]
    }
   ],
   "source": [
    "probs_HHL = hhl_al(B_double_prime_HHL, Init_vector)\n",
    "print(\"Quantum probabilities from HHL:\", probs_HHL)"
   ]
  },
  {
   "cell_type": "markdown",
   "id": "e2cd2069",
   "metadata": {},
   "source": [
    "## Classical running"
   ]
  },
  {
   "cell_type": "code",
   "execution_count": 409,
   "id": "cb0c21d7",
   "metadata": {},
   "outputs": [
    {
     "name": "stdout",
     "output_type": "stream",
     "text": [
      "Classical probabilities: [0.84482759-0.j 0.15517241+0.j]\n"
     ]
    }
   ],
   "source": [
    "probs_cl = CLS(B_double_prime, Init_vector)\n",
    "# In order to compare x with the quantum state |x>, we normalize and square its elements.\n",
    "probs_cl = (probs_cl / np.linalg.norm(probs_cl)) ** 2\n",
    "print(\"Classical probabilities:\", probs_cl)"
   ]
  },
  {
   "cell_type": "code",
   "execution_count": 414,
   "id": "eb863f47",
   "metadata": {},
   "outputs": [
    {
     "data": {
      "image/png": "[encoded data removed]",
      "text/plain": [
       "<Figure size 1200x400 with 3 Axes>"
      ]
     },
     "metadata": {},
     "output_type": "display_data"
    }
   ],
   "source": [
    "# Graphically visualize both distributions.\n",
    "fig, (ax1, ax2, ax3) = plt.subplots(1, 3, figsize=(12, 4))\n",
    "\n",
    "ax1.bar(np.arange(0, 2 ** n_qubits), probs_cl, color=\"blue\")\n",
    "ax1.set_xlim(-0.5, 2 ** n_qubits - 0.5)\n",
    "ax1.set_xlabel(\"Vector space basis\")\n",
    "ax1.set_title(\"Classical probabilities\")\n",
    "\n",
    "ax2.bar(np.arange(0, 2 ** n_qubits), probs_HHL, color=\"green\")\n",
    "ax2.set_xlim(-0.5, 2 ** n_qubits - 0.5)\n",
    "ax2.set_xlabel(\"Hilbert space basis\")\n",
    "ax2.set_title(\"HHL Quantum probabilities\")\n",
    "\n",
    "ax3.bar(np.arange(0, 2 ** n_qubits), probs_VQLS, color=\"red\")\n",
    "ax3.set_xlim(-0.5, 2 ** n_qubits - 0.5)\n",
    "ax3.set_xlabel(\"Hilbert space basis\")\n",
    "ax3.set_title(\"VQLS Quantum probabilities\")\n",
    "\n",
    "plt.show()"
   ]
  }
 ],
 "metadata": {
  "kernelspec": {
   "display_name": "Python 3",
   "language": "python",
   "name": "python3"
  },
  "language_info": {
   "codemirror_mode": {
    "name": "ipython",
    "version": 3
   },
   "file_extension": ".py",
   "mimetype": "text/x-python",
   "name": "python",
   "nbconvert_exporter": "python",
   "pygments_lexer": "ipython3",
   "version": "3.9.13"
  }
 },
 "nbformat": 4,
 "nbformat_minor": 5
}
