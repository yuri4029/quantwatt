{
 "cells": [
  {
   "cell_type": "code",
   "execution_count": 333,
   "id": "84e6fc57",
   "metadata": {},
   "outputs": [],
   "source": [
    "# Pennylane\n",
    "import pennylane as qml\n",
    "from pennylane import numpy as np\n",
    "from scipy.linalg import expm\n",
    "# Plotting\n",
    "import matplotlib.pyplot as plt"
   ]
  },
  {
   "cell_type": "markdown",
   "id": "b2b2001c",
   "metadata": {},
   "source": [
    "# Setting of the main hyper-parameters of the model"
   ]
  },
  {
   "cell_type": "code",
   "execution_count": 682,
   "id": "b220a7ed",
   "metadata": {},
   "outputs": [],
   "source": [
    "n_qubits = 3  # Number of system qubits.\n",
    "n_shots = 10 ** 6  # Number of quantum measurements.\n",
    "\n",
    "# Hyper-parameters for the HHL algorithm\n",
    "phase_qubits = 4 # Number of qubits used for phase estimation.\n",
    "ancilla_qubit = 1 # Number of ancillary qubits used for eigenvalue encoding amplitude\n",
    "tot_qubits_HHL = n_qubits + phase_qubits + ancilla_qubit # Total number of qubits (system + ancillary + QPE qubits).\n",
    "\n",
    "# Hybrid algorithm hyper-parameters\n",
    "ancilla_idx = n_qubits  # Index of the one ancillary qubit (last position).\n",
    "tot_qubits_VQLS = n_qubits + 1  # Total number of qubits (system + ancillary).\n",
    "steps = 50  # Number of optimization steps\n",
    "eta = 0.8  # Learning rate\n",
    "rng_seed = 0  # Seed for random number generator\n",
    "dim = 2 ** n_qubits  # Dimension of the problem space\n",
    "epsilon = 1e-6  # threshold for convergence"
   ]
  },
  {
   "cell_type": "code",
   "execution_count": 683,
   "id": "e37eb2ac",
   "metadata": {},
   "outputs": [],
   "source": [
    "# For the HHL algorithm, we need to define the phase estimation wires and target wires.\n",
    "# Assume phase_wires and target_wire are defined as in previous cells\n",
    "phase_wires = range(phase_qubits)  # Phase estimation wires\n",
    "target_wires = range(phase_qubits, phase_qubits + n_qubits)  # Target wires\n",
    "ancilla_wires = range(phase_qubits + n_qubits, phase_qubits + n_qubits + ancilla_qubit)  # Ancilla wires"
   ]
  },
  {
   "cell_type": "code",
   "execution_count": 558,
   "id": "435c0adf",
   "metadata": {},
   "outputs": [],
   "source": [
    "# Specified power injections (Sbus)\n",
    "# Bus 1: Slack → value not used for mismatch (can set to 0)\n",
    "# Bus 2: PQ bus with P=10 MW, Q=0\n",
    "# Bus 3: PQ bus with P=-15 MW, Q=-5 MVAr\n",
    "Sbus = [0+0j, 0.1+0j, -0.15-0.05j]\n",
    "\n",
    "# Ybus matrix for 3-bus system (from the paper's example)\n",
    "Ybus = np.array([\n",
    "    [0 - 2j, 0 + 1j, 0 + 1j],\n",
    "    [0 + 1j, 0 - 1.5j, 0 + 0.5j],\n",
    "    [0 + 1j, 0 + 0.5j, 0 - 1.5j]\n",
    "])"
   ]
  },
  {
   "cell_type": "code",
   "execution_count": null,
   "id": "295403a7",
   "metadata": {},
   "outputs": [],
   "source": [
    "# Three buses system\n",
    "B_prime = np.array([[-1.5, 0.5],\n",
    "           [0.5, -1.5]], dtype=np.complex128)\n",
    "\n",
    "B_double_prime = np.array([[-1.5, 0.5],\n",
    "                  [0.5, -1.5]], dtype=np.complex128)\n",
    "# These matrix need to be redefiend to be a positive deifined matrix"
   ]
  },
  {
   "cell_type": "code",
   "execution_count": null,
   "id": "af2697b8",
   "metadata": {},
   "outputs": [],
   "source": [
    "# Five buses system\n",
    "B_double_prime = np.array([\n",
    "    [1, 0, 0, 1],\n",
    "    [0, 2, 1, 0],\n",
    "    [0, 1, 3, 0],\n",
    "    [1, 0, 0, 4]\n",
    "], dtype=complex)"
   ]
  },
  {
   "cell_type": "code",
   "execution_count": null,
   "id": "22e6c02c",
   "metadata": {},
   "outputs": [],
   "source": [
    "# Nine buses system\n",
    "B_double_prime = A = np.array([\n",
    "    [ 4, -1,  0,  0, -1,  0,  0,  0],\n",
    "    [-1,  4, -1,  0,  0, -1,  0,  0],\n",
    "    [ 0, -1,  4, -1,  0,  0, -1,  0],\n",
    "    [ 0,  0, -1,  4,  0,  0,  0, -1],\n",
    "    [-1,  0,  0,  0,  4, -1,  0,  0],\n",
    "    [ 0, -1,  0,  0, -1,  4, -1,  0],\n",
    "    [ 0,  0, -1,  0,  0, -1,  4, -1],\n",
    "    [ 0,  0,  0, -1,  0,  0, -1,  4],\n",
    "],dtype=complex)"
   ]
  },
  {
   "cell_type": "markdown",
   "id": "41138a21",
   "metadata": {},
   "source": [
    "# HHL algorithm"
   ]
  },
  {
   "cell_type": "code",
   "execution_count": 585,
   "id": "8cdb440d",
   "metadata": {},
   "outputs": [],
   "source": [
    "def apply_unitary(A_matrix,wires):\n",
    "    # Compute the unitary U = exp(iA)\n",
    "    U = expm(1j * A_matrix)\n",
    "    # Apply the unitary operation to the specified wires\n",
    "    qml.QubitUnitary(U, wires=wires)\n",
    "\n",
    "# Define the quantum phase estimation circuit\n",
    "def qpe_circuit(A_matrix, phase_wires, target_wire): \n",
    "    # Initialize target in eigenstate of U\n",
    "    # qml.Hadamard(wires=target_wire)\n",
    "\n",
    "    # Apply Hadamards to phase register\n",
    "    for w in phase_wires:\n",
    "        qml.Hadamard(wires=w)\n",
    "\n",
    "    # Apply controlled-U^{2^k}\n",
    "    apply_unitary_powers = [2 ** i for i in range(len(phase_wires))]\n",
    "\n",
    "    for i, power in enumerate(apply_unitary_powers):\n",
    "        for _ in range(power):\n",
    "            qml.ctrl(apply_unitary, control=phase_wires[::-1][i])(A_matrix = A_matrix,wires=target_wire)\n",
    "\n",
    "    # Apply inverse QFT\n",
    "    qml.adjoint(qml.QFT)(wires=phase_wires)\n",
    "\n",
    "# Define the controlled fractional rotation operation\n",
    "def AQE_fractional_rotation(control_wires, target_wire):\n",
    "    \"\"\"Apply controlled RY rotation based on fractional binary interpretation of control qubits.\"\"\"\n",
    "    n = len(control_wires)\n",
    "\n",
    "    for d in range(1, 2**n):  # skip d=0 to avoid divide-by-zero\n",
    "        # Convert decimal to binary string to run all possible state\n",
    "        bin_str = f\"{d:0{n}b}\"\n",
    "        # Convert binary string to list of bits for controlled rotation\n",
    "        bit_strings = [int(bit) for bit in bin_str]\n",
    "        # Compute fractional binary value: d = sum x_j * 2^-j\n",
    "        fractional_d = sum(int(bit) * 2**-(j+1) for j, bit in enumerate(bin_str))\n",
    "        # Compute the inverse of the fractional value\n",
    "        inv = 1 / fractional_d\n",
    "        # Normalize to [0, 1] range\n",
    "        inv = inv / (2 ** n)\n",
    "        # Convert to angle for RY gate, the state |0> amplitude corresponds to inv value\n",
    "        theta = np.arccos(inv) * 2  # 2*theta for full RY\n",
    "        # Apply controlled RY rotation on target wire controling on control wires\n",
    "        qml.ctrl(qml.RY, control=control_wires, control_values=bit_strings)(theta,wires=target_wire)"
   ]
  },
  {
   "cell_type": "code",
   "execution_count": 735,
   "id": "de0c47e0",
   "metadata": {},
   "outputs": [
    {
     "data": {
      "text/plain": [
       "tensor([0.0853112, 0.1646888, 0.1646888, 0.0853112, 0.0853112, 0.1646888,\n",
       "        0.1646888, 0.0853112], requires_grad=True)"
      ]
     },
     "execution_count": 735,
     "metadata": {},
     "output_type": "execute_result"
    }
   ],
   "source": [
    "hhl_al(B_double_prime,Init_vector)"
   ]
  },
  {
   "cell_type": "code",
   "execution_count": 733,
   "id": "b74df750",
   "metadata": {},
   "outputs": [],
   "source": [
    "dev = qml.device(\"default.qubit\", wires=tot_qubits_HHL)\n",
    "@qml.qnode(dev)\n",
    "def hhl_circuit(A_matrix,vector):\n",
    "    # 1. Initialize the target qubit\n",
    "    # Normalize the input vector\n",
    "    norm_vector = vector / np.linalg.norm(vector)\n",
    "    # Initialize the quantum state to the normalized vector on the target wires\n",
    "    qml.QubitStateVector(norm_vector, wires=target_wires)\n",
    "    # for target_wire in target_wires:\n",
    "    #     qml.Hadamard(wires=target_wire) # in this example, |b> = U_b |0> = H_0 H_1 ... |0>\n",
    "\n",
    "    # 2. Apply QPE (Quantum Phase Estimation)\n",
    "    qpe_circuit(A_matrix, phase_wires, target_wires)\n",
    "\n",
    "    # 3. Apply AQE fractional rotation (controlled RY based on phase_wires)\n",
    "    AQE_fractional_rotation(phase_wires, ancilla_wires)\n",
    "\n",
    "    # 4. Apply inverse QPE (adjoint of QPE)\n",
    "    qml.adjoint(qpe_circuit)(A_matrix, phase_wires, target_wires)\n",
    "\n",
    "    # 5. Measure the target qubit\n",
    "    probs = qml.probs(wires= [*target_wires,*ancilla_wires])\n",
    "    return probs\n",
    "\n",
    "def hhl_al(A_matrix, vector):\n",
    "    probs = hhl_circuit(A_matrix, vector)\n",
    "    #6. Get indices where ancilla qubit is 0 (i.e., even indices)\n",
    "    ancil_position = tot_qubits_HHL - ancilla_wires[0] - 1  # Assuming ancilla_wires is a list with one element\n",
    "    ancilla_zero_indices = [i for i in range(len(probs)) if (i & 2**ancil_position) == 0]\n",
    "    # Filter probabilities where ancilla qubit is in |0>\n",
    "    probs_ancilla0 = probs[ancilla_zero_indices]\n",
    "    # Normalize the filtered probabilities ???\n",
    "    probs_ancilla0_normalized = probs_ancilla0 / np.sum(probs_ancilla0) # * np.linalg.norm(vector)**2  \n",
    "    \n",
    "    return probs_ancilla0_normalized"
   ]
  },
  {
   "cell_type": "markdown",
   "id": "4e723dea",
   "metadata": {},
   "source": [
    "# Variational quantum linear solver"
   ]
  },
  {
   "cell_type": "code",
   "execution_count": 707,
   "id": "68d5470f",
   "metadata": {},
   "outputs": [],
   "source": [
    "def U_b(vector):\n",
    "    \"\"\"Unitary matrix rotating the ground state to the problem vector |b> = U_b |0>.\"\"\"\n",
    "    # Normalize the input vector\n",
    "    # norm_vector = vector / np.linalg.norm(vector)\n",
    "    # Initialize the quantum state to the normalized vector on the target wires\n",
    "    # qml.QubitStateVector(norm_vector, wires=[i for i in range(n_qubits)])\n",
    "    for idx in range(n_qubits):\n",
    "        qml.Hadamard(wires=idx)\n",
    "\n",
    "def CA_gate(idx, ancilla_idx, hamiltonian):\n",
    "    \"\"\"Controlled versions of the unitary components A_idx of the problem matrix A.\"\"\"\n",
    "    if n_qubits == 1:\n",
    "        if hamiltonian.ops[idx].name == 'Identity':\n",
    "            return  # Idientity operation, do nothing\n",
    "        elif hamiltonian.ops[idx].name == 'PauliX':\n",
    "            qml.CNOT(wires=[ancilla_idx, 0]) # Apply X gate \n",
    "        elif hamiltonian.ops[idx].name == 'PauliZ':\n",
    "            qml.CZ(wires=[ancilla_idx, 0]) # Apply Z gate\n",
    "        elif hamiltonian.ops[idx].name == 'PauliY':\n",
    "            qml.CY(wires=[ancilla_idx, 0]) # Apply Y gate\n",
    "    else:\n",
    "        for i in range(n_qubits):\n",
    "            if hamiltonian.ops[idx][i].name == 'Identity':\n",
    "                continue    # Idientity operation, do nothing\n",
    "            elif hamiltonian.ops[idx][i].name == 'PauliX':\n",
    "                qml.CNOT(wires=[ancilla_idx, i]) # Apply X gate \n",
    "            elif hamiltonian.ops[idx][i].name == 'PauliZ':\n",
    "                qml.CZ(wires=[ancilla_idx, i]) # Apply Z gate\n",
    "            elif hamiltonian.ops[idx][i].name == 'PauliY':\n",
    "                qml.CY(wires=[ancilla_idx, i]) # Apply Y gate\n"
   ]
  },
  {
   "cell_type": "code",
   "execution_count": 708,
   "id": "2cbd0444",
   "metadata": {},
   "outputs": [],
   "source": [
    "def variational_block(weights):\n",
    "    '''Variational block for the real amplitude ansatz, applying RY rotations and CNOTs in a linear entanglement pattern.'''\n",
    "    depth = len(weights) // n_qubits\n",
    "\n",
    "    param_index = 0\n",
    "    for _ in range(depth):\n",
    "        # Step 1: Apply RY rotations\n",
    "        for i in range(n_qubits):\n",
    "            qml.RY(weights[param_index], wires=i)\n",
    "            param_index += 1\n",
    "\n",
    "        # Step 2: Apply entangling CNOTs (linear)\n",
    "        for i in range(n_qubits - 1):\n",
    "            qml.CNOT(wires=[i, i+1])"
   ]
  },
  {
   "cell_type": "code",
   "execution_count": 709,
   "id": "37a3a2b2",
   "metadata": {},
   "outputs": [],
   "source": [
    "dev_mu = qml.device(\"default.qubit\", wires= tot_qubits_VQLS)\n",
    "@qml.qnode(dev_mu, interface=\"autograd\")\n",
    "def local_hadamard_test(weights, l=None, lp=None, j=None, part=None):\n",
    "    \"\"\"Local Hadamard test for estimating the expectation value of a Hermitian operator.\"\"\"\n",
    "    # First Hadamard gate applied to the ancillary qubit.\n",
    "    qml.Hadamard(wires=ancilla_idx)\n",
    "\n",
    "    # For estimating the imaginary part of the coefficient \"lambda\", we must add a \"-i\"\n",
    "    # phase gate.\n",
    "    if part == \"Im\" or part == \"im\":\n",
    "        qml.PhaseShift(-np.pi / 2, wires=ancilla_idx)\n",
    "\n",
    "    # Variational circuit generating a guess for the solution vector |x>\n",
    "    variational_block(weights)\n",
    "\n",
    "    # Controlled application of the unitary component A_l of the problem matrix A.\n",
    "    # CA(l) # Manual defined operators for specific A\n",
    "    CA_gate(l, ancilla_idx, hamiltonian) # Generalized operators for a Hermitian A\n",
    "\n",
    "    # Adjoint of the unitary U_b associated to the problem vector |b>.\n",
    "    U_b(Init_vector) # In this specific example Adjoint(U_b) = U_b.\n",
    "\n",
    "    # Controlled Z operator at position j. If j = -1, apply the identity.\n",
    "    if j != -1:\n",
    "        qml.CZ(wires=[ancilla_idx, j])\n",
    "\n",
    "    # Unitary U_b associated to the problem vector |b>.\n",
    "    U_b(Init_vector)\n",
    "\n",
    "    # Controlled application of Adjoint(A_lp).\n",
    "    # In this specific example Adjoint(A_lp) = A_lp.\n",
    "    # CA(lp) # Manual defined operators for specific A\n",
    "    CA_gate(lp, ancilla_idx, hamiltonian) # Generalized operators for a Hermitian A\n",
    "    \n",
    "    # Second Hadamard gate applied to the ancillary qubit.\n",
    "    qml.Hadamard(wires=ancilla_idx)\n",
    "\n",
    "    # Expectation value of Z for the ancillary qubit.\n",
    "    return qml.expval(qml.PauliZ(wires=ancilla_idx))\n",
    "\n",
    "def mu(weights, l=None, lp=None, j=None):\n",
    "    \"\"\"Generates the coefficients to compute the \"local\" cost function C_L.\"\"\"\n",
    "\n",
    "    mu_real = local_hadamard_test(weights, l=l, lp=lp, j=j, part=\"Re\")\n",
    "    mu_imag = local_hadamard_test(weights, l=l, lp=lp, j=j, part=\"Im\")\n",
    "\n",
    "    return mu_real + 1.0j * mu_imag\n",
    "\n",
    "def psi_norm(weights):\n",
    "    \"\"\"Returns the normalization constant <psi|psi>, where |psi> = A |x>.\"\"\"\n",
    "    norm = 0.0\n",
    "\n",
    "    for l in range(0, len(coupling)):\n",
    "        for lp in range(0, len(coupling)):\n",
    "            norm = norm + coupling[l] * np.conj(coupling[lp]) * mu(weights, l, lp, -1)\n",
    "\n",
    "    return abs(norm)\n",
    "\n",
    "def cost_loc(weights):\n",
    "    \"\"\"Local version of the cost function. Tends to zero when A|x> is proportional to |b>.\"\"\"\n",
    "    mu_sum = 0.0\n",
    "    \n",
    "    for l in range(0, len(coupling)):\n",
    "        for lp in range(0, len(coupling)):\n",
    "            for j in range(0, n_qubits):\n",
    "                mu_sum = mu_sum + coupling[l] * np.conj(coupling[lp]) * mu(weights, l, lp, j)\n",
    "\n",
    "    mu_sum = abs(mu_sum)\n",
    "\n",
    "    # Cost function C_L\n",
    "    return 0.5 - 0.5 * mu_sum / (n_qubits * psi_norm(weights))"
   ]
  },
  {
   "cell_type": "code",
   "execution_count": 679,
   "id": "d13a1b18",
   "metadata": {},
   "outputs": [
    {
     "name": "stdout",
     "output_type": "stream",
     "text": [
      "Gate counts:\n",
      "  Hadamard : 6\n",
      "    RY : 4\n",
      "  CNOT : 2\n",
      "    CZ : 3\n",
      "\n",
      "Circuit depth    : 10\n",
      "Number of wires  : 3\n"
     ]
    }
   ],
   "source": [
    "# 2) Use qml.specs to get resource info\n",
    "specs_fn = qml.specs(local_hadamard_test)\n",
    "info = specs_fn(w,1,1,1)\n",
    "\n",
    "# 3) Extract what you need\n",
    "gate_counts = info[\"resources\"].gate_types\n",
    "depth       = info[\"resources\"].depth\n",
    "num_wires   = info[\"resources\"].num_wires\n",
    "\n",
    "# 4) Display results\n",
    "print(\"Gate counts:\")\n",
    "for gate, count in gate_counts.items():\n",
    "    print(f\"  {gate:>4s} : {count}\")\n",
    "\n",
    "print(f\"\\nCircuit depth    : {depth}\")\n",
    "print(f\"Number of wires  : {num_wires}\")"
   ]
  },
  {
   "cell_type": "code",
   "execution_count": 710,
   "id": "6f8f2d98",
   "metadata": {},
   "outputs": [],
   "source": [
    "def VQLS(init_weights, steps=steps, eta=eta):\n",
    "    \"\"\"Variational Quantum Linear Solver (VQLS) algorithm.\"\"\"\n",
    "    # Set the random seed\n",
    "    np.random.seed(rng_seed)\n",
    "    # Define the optimizer\n",
    "    opt = qml.GradientDescentOptimizer(eta)\n",
    "    # Variational optimization loop\n",
    "    cost_history = []\n",
    "    w = init_weights\n",
    "    for it in range(steps):\n",
    "        if cost_loc(w) > epsilon:  # Continue until cost is sufficiently low\n",
    "            w, cost = opt.step_and_cost(cost_loc, w)\n",
    "            print(\"Step {:3d}       Cost_L = {:9.7f}\".format(it, cost))\n",
    "            cost_history.append(cost)\n",
    "        else:\n",
    "            break\n",
    "    return w, cost_history"
   ]
  },
  {
   "cell_type": "markdown",
   "id": "3770fd8c",
   "metadata": {},
   "source": [
    "# Comparing Linear Solver Methods"
   ]
  },
  {
   "cell_type": "markdown",
   "id": "5da2fb6d",
   "metadata": {},
   "source": [
    "## VQSL running"
   ]
  },
  {
   "cell_type": "code",
   "execution_count": 711,
   "id": "d6d64366",
   "metadata": {},
   "outputs": [],
   "source": [
    "# Example: 2-qubit Hermitian matrix\n",
    "A = B_double_prime\n",
    "Init_vector = np.ones(dim) / np.sqrt(dim) # Vector Initial state |b>\n",
    "# Ensure it's Hermitian\n",
    "assert np.allclose(A, A.conj().T)\n",
    "# Decompose the Hermitian matrix into Pauli operators\n",
    "hamiltonian = qml.pauli_decompose(A)\n",
    "# Coefficients of the linear combination A = c_0 A_0 + c_1 A_1 ...\n",
    "coupling = hamiltonian.coeffs\n",
    "layers_ansatz = 2  # Number of layers in the ansatz\n",
    "# Initialize the quantum weights\n",
    "init_weights = 0.01 * np.random.randn(n_qubits * layers_ansatz, requires_grad=True)"
   ]
  },
  {
   "cell_type": "code",
   "execution_count": 712,
   "id": "a61aaa61",
   "metadata": {},
   "outputs": [],
   "source": [
    "# Prepare a new quantum device for sampling define the associated qnode circuit\n",
    "dev_x = qml.device(\"default.qubit\", wires=tot_qubits_VQLS)\n",
    "\n",
    "@qml.qnode(dev_x, interface=\"autograd\")\n",
    "def prepare_and_sample(weights):\n",
    "\n",
    "    # Variational circuit generating a guess for the solution vector |x>\n",
    "    variational_block(weights)\n",
    "\n",
    "    # We assume that the system is measured in the computational basis.\n",
    "    # then sampling the device will give us a value of 0 or 1 for each qubit (n_qubits)\n",
    "    # this will be repeated for the total number of shots provided (n_shots)\n",
    "    return qml.probs(wires=range(n_qubits)) \n",
    "    # return qml.sample() "
   ]
  },
  {
   "cell_type": "code",
   "execution_count": 713,
   "id": "4be5808f",
   "metadata": {},
   "outputs": [
    {
     "name": "stdout",
     "output_type": "stream",
     "text": [
      "Step   0       Cost_L = 0.3527622\n",
      "Step   1       Cost_L = 0.3089504\n",
      "Step   2       Cost_L = 0.2656346\n",
      "Step   3       Cost_L = 0.2230837\n",
      "Step   4       Cost_L = 0.1831131\n",
      "Step   5       Cost_L = 0.1479251\n",
      "Step   6       Cost_L = 0.1187617\n",
      "Step   7       Cost_L = 0.0955823\n",
      "Step   8       Cost_L = 0.0775785\n",
      "Step   9       Cost_L = 0.0637334\n",
      "Step  10       Cost_L = 0.0531090\n",
      "Step  11       Cost_L = 0.0449337\n",
      "Step  12       Cost_L = 0.0386025\n",
      "Step  13       Cost_L = 0.0336526\n",
      "Step  14       Cost_L = 0.0297341\n",
      "Step  15       Cost_L = 0.0265854\n",
      "Step  16       Cost_L = 0.0240123\n",
      "Step  17       Cost_L = 0.0218716\n",
      "Step  18       Cost_L = 0.0200580\n",
      "Step  19       Cost_L = 0.0184946\n",
      "Step  20       Cost_L = 0.0171252\n",
      "Step  21       Cost_L = 0.0159087\n",
      "Step  22       Cost_L = 0.0148150\n",
      "Step  23       Cost_L = 0.0138219\n",
      "Step  24       Cost_L = 0.0129129\n",
      "Step  25       Cost_L = 0.0120757\n",
      "Step  26       Cost_L = 0.0113010\n",
      "Step  27       Cost_L = 0.0105814\n",
      "Step  28       Cost_L = 0.0099112\n",
      "Step  29       Cost_L = 0.0092858\n",
      "Step  30       Cost_L = 0.0087015\n",
      "Step  31       Cost_L = 0.0081550\n",
      "Step  32       Cost_L = 0.0076435\n",
      "Step  33       Cost_L = 0.0071647\n",
      "Step  34       Cost_L = 0.0067164\n",
      "Step  35       Cost_L = 0.0062967\n",
      "Step  36       Cost_L = 0.0059037\n",
      "Step  37       Cost_L = 0.0055358\n",
      "Step  38       Cost_L = 0.0051916\n",
      "Step  39       Cost_L = 0.0048694\n",
      "Step  40       Cost_L = 0.0045681\n",
      "Step  41       Cost_L = 0.0042863\n",
      "Step  42       Cost_L = 0.0040228\n",
      "Step  43       Cost_L = 0.0037765\n",
      "Step  44       Cost_L = 0.0035463\n",
      "Step  45       Cost_L = 0.0033312\n",
      "Step  46       Cost_L = 0.0031302\n",
      "Step  47       Cost_L = 0.0029425\n",
      "Step  48       Cost_L = 0.0027672\n",
      "Step  49       Cost_L = 0.0026035\n"
     ]
    }
   ],
   "source": [
    "# Set the random seed\n",
    "np.random.seed(rng_seed)\n",
    "# Define the optimizer\n",
    "opt = qml.GradientDescentOptimizer(eta)\n",
    "# Initialize parameter\n",
    "w = init_weights\n",
    "# Variational optimization loop\n",
    "cost_history = []\n",
    "coupling_VQLS = []\n",
    "for it in range(steps):\n",
    "    if cost_loc(w) > 1e-6:\n",
    "        w, cost = opt.step_and_cost(cost_loc, w)\n",
    "        print(\"Step {:3d}       Cost_L = {:9.7f}\".format(it, cost))\n",
    "        if cost_loc(w) > 0:\n",
    "            coupling_VQLS.append(w)    \n",
    "            cost_history.append(cost)\n",
    "    else:\n",
    "        break"
   ]
  },
  {
   "cell_type": "code",
   "execution_count": 714,
   "id": "feaa3a53",
   "metadata": {},
   "outputs": [
    {
     "name": "stdout",
     "output_type": "stream",
     "text": [
      "Quantum probabilities for VQLS: [0.11944558 0.17083993 0.17487389 0.0697394  0.0742229  0.18927007\n",
      " 0.11786232 0.08374591]\n"
     ]
    }
   ],
   "source": [
    "# w, cost_history = VQLS(init_weights, steps=steps, eta=eta)\n",
    "# Generate the quantum state |x> and sample it\n",
    "# Using the variational weights w that we have previously optimized.\n",
    "probs_VQLS = prepare_and_sample(coupling_VQLS[-1])\n",
    "print(\"Quantum probabilities for VQLS:\", probs_VQLS)"
   ]
  },
  {
   "cell_type": "markdown",
   "id": "6651d709",
   "metadata": {},
   "source": [
    "<!-- ## HHL running -->"
   ]
  },
  {
   "cell_type": "markdown",
   "id": "c5793917",
   "metadata": {},
   "source": [
    "## HHL running"
   ]
  },
  {
   "cell_type": "code",
   "execution_count": 736,
   "id": "2bd8788b",
   "metadata": {},
   "outputs": [],
   "source": [
    "B_double_prime_HHL = -np.array(B_double_prime)"
   ]
  },
  {
   "cell_type": "code",
   "execution_count": 737,
   "id": "4467e4a0",
   "metadata": {},
   "outputs": [
    {
     "name": "stdout",
     "output_type": "stream",
     "text": [
      "Quantum probabilities from HHL: [0.0853112 0.1646888 0.1646888 0.0853112 0.0853112 0.1646888 0.1646888\n",
      " 0.0853112]\n"
     ]
    }
   ],
   "source": [
    "probs_HHL = hhl_al(B_double_prime, Init_vector)\n",
    "print(\"Quantum probabilities from HHL:\", probs_HHL)"
   ]
  },
  {
   "cell_type": "markdown",
   "id": "e2cd2069",
   "metadata": {},
   "source": [
    "## Classical running"
   ]
  },
  {
   "cell_type": "code",
   "execution_count": 715,
   "id": "cb0c21d7",
   "metadata": {},
   "outputs": [
    {
     "name": "stdout",
     "output_type": "stream",
     "text": [
      "Classical probabilities: [0.09+0.j 0.16+0.j 0.16+0.j 0.09+0.j 0.09+0.j 0.16+0.j 0.16+0.j 0.09+0.j]\n"
     ]
    }
   ],
   "source": [
    "probs_cl = CLS(B_double_prime, Init_vector)\n",
    "# In order to compare x with the quantum state |x>, we normalize and square its elements.\n",
    "probs_cl = (probs_cl / np.linalg.norm(probs_cl)) ** 2\n",
    "print(\"Classical probabilities:\", probs_cl)"
   ]
  },
  {
   "cell_type": "code",
   "execution_count": 740,
   "id": "eb863f47",
   "metadata": {},
   "outputs": [
    {
     "data": {
      "image/png": "[encoded data removed]",
      "text/plain": [
       "<Figure size 1200x400 with 3 Axes>"
      ]
     },
     "metadata": {},
     "output_type": "display_data"
    }
   ],
   "source": [
    "# Graphically visualize both distributions.\n",
    "fig, (ax1, ax2, ax3) = plt.subplots(1, 3, figsize=(12, 4))\n",
    "\n",
    "ax1.bar(np.arange(0, 2 ** n_qubits), probs_cl, color=\"blue\")\n",
    "ax1.set_xlim(-0.5, 2 ** n_qubits - 0.5)\n",
    "ax1.set_xlabel(\"Vector space basis\")\n",
    "ax1.set_title(\"Classical probabilities\")\n",
    "\n",
    "ax2.bar(np.arange(0, 2 ** n_qubits), probs_HHL, color=\"green\")\n",
    "ax2.set_xlim(-0.5, 2 ** n_qubits - 0.5)\n",
    "ax2.set_xlabel(\"Vector space basis\")\n",
    "ax2.set_title(\"HHL Quantum probabilities\")\n",
    "\n",
    "ax3.bar(np.arange(0, 2 ** n_qubits), probs_VQLS, color=\"red\")\n",
    "ax3.set_xlim(-0.5, 2 ** n_qubits - 0.5)\n",
    "ax3.set_xlabel(\"Vector space basis\")\n",
    "ax3.set_title(\"VQLS Quantum probabilities\")\n",
    "\n",
    "plt.show()"
   ]
  },
  {
   "cell_type": "markdown",
   "id": "2efbfb74",
   "metadata": {},
   "source": [
    "Checking the similarity between two distribution by Relative Entropy"
   ]
  },
  {
   "cell_type": "code",
   "execution_count": null,
   "id": "e07beaec",
   "metadata": {},
   "outputs": [],
   "source": [
    "from scipy.special import rel_entr\n",
    "\n",
    "def kl_divergence(P, Q):\n",
    "    \"\"\"\n",
    "    Compute the Kullback-Leibler divergence D_KL(P || Q) between two discrete probability distributions.\n",
    "\n",
    "    Parameters:\n",
    "    - P: array-like, true or observed probability distribution\n",
    "    - Q: array-like, reference or model probability distribution\n",
    "\n",
    "    Returns:\n",
    "    - KL divergence (float)\n",
    "    \"\"\"\n",
    "    P = np.asarray(P, dtype=np.float64)\n",
    "    Q = np.asarray(Q, dtype=np.float64)\n",
    "\n",
    "    # Normalize if not already\n",
    "    P /= P.sum()\n",
    "    Q /= Q.sum()\n",
    "\n",
    "    if np.any((P > 0) & (Q == 0)):\n",
    "        raise ValueError(\"KL divergence is undefined: Q has zero where P is non-zero.\")\n",
    "\n",
    "    return np.sum(rel_entr(P, Q))\n"
   ]
  },
  {
   "cell_type": "code",
   "execution_count": 742,
   "id": "b052599d",
   "metadata": {},
   "outputs": [
    {
     "name": "stdout",
     "output_type": "stream",
     "text": [
      "Similarity between two distributions classical and VQLS: 0.018621475031920756\n",
      "Similarity between two distributions classical and HHL: 0.0007757708081199176\n"
     ]
    }
   ],
   "source": [
    "result_VQLS = kl_divergence(probs_cl, probs_VQLS)\n",
    "result_HHL = kl_divergence(probs_cl, probs_HHL)\n",
    "print('Similarity between two distributions classical and VQLS:',result_VQLS)\n",
    "print('Similarity between two distributions classical and HHL:',result_HHL)"
   ]
  }
 ],
 "metadata": {
  "kernelspec": {
   "display_name": "Python 3",
   "language": "python",
   "name": "python3"
  },
  "language_info": {
   "codemirror_mode": {
    "name": "ipython",
    "version": 3
   },
   "file_extension": ".py",
   "mimetype": "text/x-python",
   "name": "python",
   "nbconvert_exporter": "python",
   "pygments_lexer": "ipython3",
   "version": "3.9.13"
  }
 },
 "nbformat": 4,
 "nbformat_minor": 5
}
