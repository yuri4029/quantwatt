{
 "cells": [
  {
   "cell_type": "code",
   "execution_count": 1,
   "id": "0c782a9b",
   "metadata": {},
   "outputs": [],
   "source": [
    "# Pennylane\n",
    "import pennylane as qml\n",
    "from pennylane import numpy as np\n",
    "\n",
    "# Plotting\n",
    "import matplotlib.pyplot as plt"
   ]
  },
  {
   "cell_type": "markdown",
   "id": "a452b0e9",
   "metadata": {},
   "source": [
    "# Variational quantum linear solver"
   ]
  },
  {
   "cell_type": "markdown",
   "id": "365edbf1",
   "metadata": {},
   "source": [
    "The problem $A.x = b$ that we aim to solve is that of preparing an ansatz quantum state $\\ket{x(\\theta)}$, such that $A\\ket{x(\\theta)}$  is proportional to $\\ket{b}$, say $$\\ket{\\psi(\\theta)}=\\frac{A\\ket{x(\\theta)}}{\\sqrt{\\bra{x(\\theta)}A^\\dagger A \\ket{x(\\theta)}}} \\xrightarrow[]{\\text{Optimizing } \\theta} \\ket{b} = U\\ket{0}.$$\n",
    "In the other words, we minize the cost function $$C = 1- \\left|\\braket{b|\\psi(\\theta)}\\right|^2 =1 - \\frac{\\sum_{l,l'}c_l c_{l'}^* \\bra{x(\\theta)}A^\\dagger_{l'} U \\ket{0}\\bra{0}U^\\dagger A_l \\ket{x(\\theta)}}{\\sum_{l,l'}c_l c_{l'}^*\\sqrt{\\bra{x(\\theta)}A^\\dagger_{l'} A_l \\ket{x(\\theta)}}}$$\n"
   ]
  },
  {
   "cell_type": "markdown",
   "id": "93aa8777",
   "metadata": {},
   "source": [
    "This cost function however might be experimentally challenging since it requires us to apply all the unitaries ($U,A_l$ and $\\ket{x(\\theta)}$) in a controlled way, i.e., conditioned on the state of an ancillary qubit. The workaround one easier to measure and, at the same time, leads to the same optimal solution, can be obtained by replacing the projector $\\ket{0}\\bra{0}$ by the following positive operator $$R = \\frac{1}{2}+\\frac{1}{2n}\\sum_{j=0}^{n-1}Z_j.$$ This gives a new cost function that behave in the same way of optimization result $$C = \\frac{1}{2}-\\frac{1}{2n}\\frac{\\sum_{j=0}^{n-1}\\sum_{l,l'}c_l c_{l'}^* \\lambda_{l,l',j}}{\\sum_{l,l'}c_l c_{l'}^*\\lambda_{l,l',-1}},$$ which can be computed whenever we are able to measure the following coefficients $$\\lambda_{l,l',j} = \\bra{x(\\theta)}A^\\dagger_{l'} U Z_j U^\\dagger A_l \\ket{x(\\theta)},$$ where we used the convention that $Z_{-1} = \\mathbb{I}$. Compared with the previous cost function, the main advantage of this approach is that only the unitary operations $A_l, A^dagger_{l}$ and $Z_j$ controlled by an external ancillary qubit, while $V,V^\\dagger, U$ and $U^\\dagger$ can be directly applied to the system. This is particularly convenient whenever $V,U$ have a complex structure"
   ]
  },
  {
   "cell_type": "markdown",
   "id": "e4a421bd",
   "metadata": {},
   "source": [
    "## References"
   ]
  },
  {
   "cell_type": "markdown",
   "id": "0d11765b",
   "metadata": {},
   "source": [
    "# Setting of the main hyper-parameters of the model"
   ]
  },
  {
   "cell_type": "code",
   "execution_count": 211,
   "id": "c44a4fe7",
   "metadata": {},
   "outputs": [],
   "source": [
    "n_qubits = 3  # Number of system qubits.\n",
    "n_shots = 10 ** 6  # Number of quantum measurements.\n",
    "ancilla_idx = n_qubits  # Index of the one ancillary qubit (last position).\n",
    "tot_qubits = n_qubits + 1  # Total number of qubits (system + ancillary).\n",
    "steps = 50  # Number of optimization steps\n",
    "eta = 0.8  # Learning rate\n",
    "q_delta = 0.001  # Initial spread of random quantum weights\n",
    "rng_seed = 0  # Seed for random number generator\n",
    "dim = 2 ** n_qubits  # Dimension of the problem space"
   ]
  },
  {
   "cell_type": "markdown",
   "id": "1349f12a",
   "metadata": {},
   "source": [
    "# Circuits of the quantum linear problem"
   ]
  },
  {
   "cell_type": "markdown",
   "id": "1c8b25d1",
   "metadata": {},
   "source": [
    "## Simple Example"
   ]
  },
  {
   "cell_type": "markdown",
   "id": "569a039e",
   "metadata": {},
   "source": [
    "Operator associated to A matrix and vector B. In this example, where the A operator is defined $$ A = c_0A_0 + c_1A_1 + c_2A_2 = \\mathbb{I} + 0.2 X_0Z_1 + 0.2 X_0,$$\n",
    "and the vector $\\ket{b}$ is defined as follow $$\\ket{b}=U\\ket{b}=H_0 H_1 H_2 \\ket{b}$$"
   ]
  },
  {
   "cell_type": "code",
   "execution_count": 212,
   "id": "8dd552f2",
   "metadata": {},
   "outputs": [],
   "source": [
    "# Coefficients of the linear combination A = c_0 A_0 + c_1 A_1 ...\n",
    "c = np.array([1.0, 0.2, 0.2])\n",
    "\n",
    "def U_b():\n",
    "    \"\"\"Unitary matrix rotating the ground state to the problem vector |b> = U_b |0> = H_0 H_1 H_2 |b>.\"\"\"\n",
    "    for idx in range(n_qubits):\n",
    "        qml.Hadamard(wires=idx)\n",
    "\n",
    "def CA(idx):\n",
    "    \"\"\"Controlled versions of the unitary components A_idx of the problem matrix A.\"\"\"\n",
    "    # A = I + 0.2 X_0Z_1 + 0.2 X_0\n",
    "    if idx == 0: \n",
    "        # Identity operation\n",
    "        None\n",
    "\n",
    "    elif idx == 1: # X_0 Z_1\n",
    "        qml.CNOT(wires=[ancilla_idx, 0])\n",
    "        qml.CZ(wires=[ancilla_idx, 1])\n",
    "\n",
    "    elif idx == 2: # X_0\n",
    "        qml.CNOT(wires=[ancilla_idx, 0])"
   ]
  },
  {
   "cell_type": "markdown",
   "id": "4f45bb20",
   "metadata": {},
   "source": [
    "## For a general Hermitian matrix A"
   ]
  },
  {
   "cell_type": "markdown",
   "id": "51031eff",
   "metadata": {},
   "source": [
    "Here we get input a Hermitian matrix A, and then use the qml.pauli_decompose() function to decompose A into a sum of Pauli product operators. For instance, we have Hermitian A $$A = \\begin{bmatrix}\n",
    "1 & 0 & 0 & 1 \\\\\n",
    "0 & 2 & 1 & 0 \\\\\n",
    "0 & 1 & 3 & 0 \\\\\n",
    "1 & 0 & 0 & 4 \\\\\n",
    "\\end{bmatrix}$$ is decomposed into \n",
    "$$A = 2.5 \\, I_0 \\otimes I_1 \n",
    "- 0.5 \\, I_0 \\otimes Z_1 \n",
    "+ 1.0 \\, X_0 \\otimes X_1 \n",
    "- 1.0 \\, Z_0 \\otimes I_1$$"
   ]
  },
  {
   "cell_type": "code",
   "execution_count": 179,
   "id": "92aa25f7",
   "metadata": {},
   "outputs": [
    {
     "name": "stdout",
     "output_type": "stream",
     "text": [
      "2.5 * (I(0) @ I(1)) + -0.5 * (I(0) @ Z(1)) + 1.0 * (X(0) @ X(1)) + -1.0 * (Z(0) @ I(1))\n"
     ]
    }
   ],
   "source": [
    "# Example: 2-qubit Hermitian matrix\n",
    "A = np.array([\n",
    "    [1, 0, 0, 1],\n",
    "    [0, 2, 1, 0],\n",
    "    [0, 1, 3, 0],\n",
    "    [1, 0, 0, 4]\n",
    "], dtype=complex)\n",
    "\n",
    "# Ensure it's Hermitian\n",
    "assert np.allclose(A, A.conj().T)\n",
    "# Decompose the Hermitian matrix into Pauli operators\n",
    "hamiltonian = qml.pauli_decompose(A)\n",
    "# Display the result\n",
    "print(hamiltonian)"
   ]
  },
  {
   "cell_type": "code",
   "execution_count": 181,
   "id": "cd18130e",
   "metadata": {},
   "outputs": [],
   "source": [
    "# Coefficients of the linear combination A = c_0 A_0 + c_1 A_1 ...\n",
    "c = hamiltonian.coeffs\n",
    "\n",
    "def CA_gate(idx, ancilla_idx, hamiltonian):\n",
    "    \"\"\"Controlled versions of the unitary components A_idx of the problem matrix A.\"\"\"\n",
    "    \n",
    "    for i in range(n_qubits):\n",
    "        if hamiltonian.ops[idx][i].name == 'Identity':\n",
    "            continue    # Idientity operation, do nothing\n",
    "        elif hamiltonian.ops[idx][i].name == 'PauliX':\n",
    "            qml.CNOT(wires=[ancilla_idx, i]) # Apply X gate \n",
    "        elif hamiltonian.ops[idx][i].name == 'PauliZ':\n",
    "            qml.CZ(wires=[ancilla_idx, i]) # Apply Z gate\n",
    "        elif hamiltonian.ops[idx][i].name == 'PauliY':\n",
    "            qml.CY(wires=[ancilla_idx, i]) # Apply Y gate"
   ]
  },
  {
   "cell_type": "markdown",
   "id": "4cb4cf22",
   "metadata": {},
   "source": [
    "# Variational quantum circuit"
   ]
  },
  {
   "cell_type": "markdown",
   "id": "08507ee5",
   "metadata": {},
   "source": [
    "The very simple parametrized circuit generates the solution state $\\ket{x}$"
   ]
  },
  {
   "cell_type": "code",
   "execution_count": 213,
   "id": "cfa5a55a",
   "metadata": {},
   "outputs": [],
   "source": [
    "def variational_block(weights):\n",
    "    \"\"\"Variational circuit mapping the ground state |0> to the ansatz state |x>.\"\"\"\n",
    "    # We first prepare an equal superposition of all the states of the computational basis.\n",
    "    for idx in range(n_qubits):\n",
    "        qml.Hadamard(wires=idx)\n",
    "\n",
    "    # A very minimal variational circuit.\n",
    "    for idx, element in enumerate(weights):\n",
    "        qml.RY(element, wires=idx)"
   ]
  },
  {
   "cell_type": "markdown",
   "id": "194deddd",
   "metadata": {},
   "source": [
    "# Hadamard test"
   ]
  },
  {
   "cell_type": "markdown",
   "id": "2fd9652e",
   "metadata": {},
   "source": [
    "The circuit is based on the Hadamard test to be used to estimate the coefficients $\\lambda_{l,l',j}$ defined in the above"
   ]
  },
  {
   "cell_type": "code",
   "execution_count": 214,
   "id": "7a0e0ba3",
   "metadata": {},
   "outputs": [],
   "source": [
    "dev_mu = qml.device(\"lightning.qubit\", wires= tot_qubits)\n",
    "\n",
    "@qml.qnode(dev_mu, interface=\"autograd\")\n",
    "def local_hadamard_test(weights, l=None, lp=None, j=None, part=None):\n",
    "\n",
    "    # First Hadamard gate applied to the ancillary qubit.\n",
    "    qml.Hadamard(wires=ancilla_idx)\n",
    "\n",
    "    # For estimating the imaginary part of the coefficient \"lambda\", we must add a \"-i\"\n",
    "    # phase gate.\n",
    "    if part == \"Im\" or part == \"im\":\n",
    "        qml.PhaseShift(-np.pi / 2, wires=ancilla_idx)\n",
    "\n",
    "    # Variational circuit generating a guess for the solution vector |x>\n",
    "    variational_block(weights)\n",
    "\n",
    "    # Controlled application of the unitary component A_l of the problem matrix A.\n",
    "    CA(l) # Manual defined operators for specific A\n",
    "    # CA_gate(l, ancilla_idx, hamiltonian) # Generalized operators for a Hermitian A\n",
    "    # Adjoint of the unitary U_b associated to the problem vector |b>.\n",
    "    # In this specific example Adjoint(U_b) = U_b.\n",
    "    U_b()\n",
    "\n",
    "    # Controlled Z operator at position j. If j = -1, apply the identity.\n",
    "    if j != -1:\n",
    "        qml.CZ(wires=[ancilla_idx, j])\n",
    "\n",
    "    # Unitary U_b associated to the problem vector |b>.\n",
    "    U_b()\n",
    "\n",
    "    # Controlled application of Adjoint(A_lp).\n",
    "    # In this specific example Adjoint(A_lp) = A_lp.\n",
    "    CA(lp) # Manual defined operators for specific A\n",
    "    # CA_gate(lp, ancilla_idx, hamiltonian) # Generalized operators for a Hermitian A\n",
    "    # Second Hadamard gate applied to the ancillary qubit.\n",
    "    qml.Hadamard(wires=ancilla_idx)\n",
    "\n",
    "    # Expectation value of Z for the ancillary qubit.\n",
    "    return qml.expval(qml.PauliZ(wires=ancilla_idx))"
   ]
  },
  {
   "cell_type": "markdown",
   "id": "39700832",
   "metadata": {},
   "source": [
    "To get the real and imaginary parts of $\\lambda_{l,l',j}$, run the previous quantum circuit with and without a phase-shift of the ancillary qubit, which is done by the below function"
   ]
  },
  {
   "cell_type": "code",
   "execution_count": 215,
   "id": "f3d597ad",
   "metadata": {},
   "outputs": [],
   "source": [
    "def mu(weights, l=None, lp=None, j=None):\n",
    "    \"\"\"Generates the coefficients to compute the \"local\" cost function C_L.\"\"\"\n",
    "\n",
    "    mu_real = local_hadamard_test(weights, l=l, lp=lp, j=j, part=\"Re\")\n",
    "    mu_imag = local_hadamard_test(weights, l=l, lp=lp, j=j, part=\"Im\")\n",
    "\n",
    "    return mu_real + 1.0j * mu_imag"
   ]
  },
  {
   "cell_type": "markdown",
   "id": "1d7e0228",
   "metadata": {},
   "source": [
    "# Cost Function"
   ]
  },
  {
   "cell_type": "markdown",
   "id": "6c3dc2b2",
   "metadata": {},
   "source": [
    "Estimating $\\bra{x(\\theta)}A_l^\\dagger A_{l'} \\ket{x(\\theta)} = \\lambda_{l,l',-1}$"
   ]
  },
  {
   "cell_type": "code",
   "execution_count": 216,
   "id": "d5b1270f",
   "metadata": {},
   "outputs": [],
   "source": [
    "def psi_norm(weights):\n",
    "    \"\"\"Returns the normalization constant <psi|psi>, where |psi> = A |x>.\"\"\"\n",
    "    norm = 0.0\n",
    "\n",
    "    for l in range(0, len(c)):\n",
    "        for lp in range(0, len(c)):\n",
    "            norm = norm + c[l] * np.conj(c[lp]) * mu(weights, l, lp, -1)\n",
    "\n",
    "    return abs(norm)"
   ]
  },
  {
   "cell_type": "markdown",
   "id": "e4e4ebc6",
   "metadata": {},
   "source": [
    "Given the analytical expression of cost function in terms of the coefficients $\\lambda_{l,l',j}$ defined above, we can define the cost function of our minimization problem"
   ]
  },
  {
   "cell_type": "code",
   "execution_count": 217,
   "id": "ae8097a3",
   "metadata": {},
   "outputs": [],
   "source": [
    "def cost_loc(weights):\n",
    "    \"\"\"Local version of the cost function. Tends to zero when A|x> is proportional to |b>.\"\"\"\n",
    "    mu_sum = 0.0\n",
    "\n",
    "    for l in range(0, len(c)):\n",
    "        for lp in range(0, len(c)):\n",
    "            for j in range(0, n_qubits):\n",
    "                mu_sum = mu_sum + c[l] * np.conj(c[lp]) * mu(weights, l, lp, j)\n",
    "\n",
    "    mu_sum = abs(mu_sum)\n",
    "\n",
    "    # Cost function C_L\n",
    "    return 0.5 - 0.5 * mu_sum / (n_qubits * psi_norm(weights))"
   ]
  },
  {
   "cell_type": "markdown",
   "id": "96f0712d",
   "metadata": {},
   "source": [
    "# Exprimentally Variational Optimization"
   ]
  },
  {
   "cell_type": "code",
   "execution_count": 218,
   "id": "582dccc6",
   "metadata": {},
   "outputs": [],
   "source": [
    "# Set the random seed\n",
    "np.random.seed(rng_seed)\n",
    "# Initialize the quantum weights\n",
    "w = q_delta * np.random.randn(n_qubits, requires_grad=True)\n",
    "# Define the optimizer\n",
    "opt = qml.GradientDescentOptimizer(eta)"
   ]
  },
  {
   "cell_type": "code",
   "execution_count": 219,
   "id": "5a275de7",
   "metadata": {},
   "outputs": [
    {
     "name": "stdout",
     "output_type": "stream",
     "text": [
      "Step   0       Cost_L = 0.0089888\n",
      "Step   1       Cost_L = 0.0070072\n",
      "Step   2       Cost_L = 0.0054157\n",
      "Step   3       Cost_L = 0.0041528\n",
      "Step   4       Cost_L = 0.0031617\n",
      "Step   5       Cost_L = 0.0023917\n",
      "Step   6       Cost_L = 0.0017988\n",
      "Step   7       Cost_L = 0.0013461\n",
      "Step   8       Cost_L = 0.0010028\n",
      "Step   9       Cost_L = 0.0007442\n",
      "Step  10       Cost_L = 0.0005503\n",
      "Step  11       Cost_L = 0.0004058\n",
      "Step  12       Cost_L = 0.0002984\n",
      "Step  13       Cost_L = 0.0002190\n",
      "Step  14       Cost_L = 0.0001604\n",
      "Step  15       Cost_L = 0.0001173\n",
      "Step  16       Cost_L = 0.0000857\n",
      "Step  17       Cost_L = 0.0000625\n",
      "Step  18       Cost_L = 0.0000455\n",
      "Step  19       Cost_L = 0.0000331\n",
      "Step  20       Cost_L = 0.0000241\n",
      "Step  21       Cost_L = 0.0000175\n",
      "Step  22       Cost_L = 0.0000127\n",
      "Step  23       Cost_L = 0.0000092\n",
      "Step  24       Cost_L = 0.0000067\n",
      "Step  25       Cost_L = 0.0000049\n",
      "Step  26       Cost_L = 0.0000035\n",
      "Step  27       Cost_L = 0.0000026\n",
      "Step  28       Cost_L = 0.0000019\n",
      "Step  29       Cost_L = 0.0000013\n",
      "Step  30       Cost_L = 0.0000010\n",
      "Step  31       Cost_L = 0.0000007\n",
      "Step  32       Cost_L = 0.0000005\n",
      "Step  33       Cost_L = 0.0000004\n",
      "Step  34       Cost_L = 0.0000003\n",
      "Step  35       Cost_L = 0.0000002\n",
      "Step  36       Cost_L = 0.0000001\n",
      "Step  37       Cost_L = 0.0000001\n",
      "Step  38       Cost_L = 0.0000001\n",
      "Step  39       Cost_L = 0.0000001\n",
      "Step  40       Cost_L = 0.0000000\n",
      "Step  41       Cost_L = 0.0000000\n",
      "Step  42       Cost_L = 0.0000000\n",
      "Step  43       Cost_L = 0.0000000\n",
      "Step  44       Cost_L = 0.0000000\n",
      "Step  45       Cost_L = 0.0000000\n",
      "Step  46       Cost_L = 0.0000000\n",
      "Step  47       Cost_L = 0.0000000\n",
      "Step  48       Cost_L = 0.0000000\n",
      "Step  49       Cost_L = 0.0000000\n"
     ]
    }
   ],
   "source": [
    "# Variational optimization loop\n",
    "cost_history = []\n",
    "for it in range(steps):\n",
    "    w, cost = opt.step_and_cost(cost_loc, w)\n",
    "    print(\"Step {:3d}       Cost_L = {:9.7f}\".format(it, cost))\n",
    "    cost_history.append(cost)"
   ]
  },
  {
   "cell_type": "code",
   "execution_count": 220,
   "id": "20e708fa",
   "metadata": {},
   "outputs": [
    {
     "data": {
      "image/png": "[encoded data removed]",
      "text/plain": [
       "<Figure size 800x550 with 1 Axes>"
      ]
     },
     "metadata": {},
     "output_type": "display_data"
    }
   ],
   "source": [
    "plt.style.use(\"seaborn\")\n",
    "plt.plot(cost_history, \"g\")\n",
    "plt.ylabel(\"Cost function\")\n",
    "plt.xlabel(\"Optimization steps\")\n",
    "plt.show()"
   ]
  },
  {
   "cell_type": "markdown",
   "id": "422a501c",
   "metadata": {},
   "source": [
    "# Comparison of quantum and classical results"
   ]
  },
  {
   "cell_type": "markdown",
   "id": "9d6cebe4",
   "metadata": {},
   "source": [
    "## Classical algorithm"
   ]
  },
  {
   "cell_type": "markdown",
   "id": "db38487d",
   "metadata": {},
   "source": [
    "Generate the defined matrix A from example above"
   ]
  },
  {
   "cell_type": "code",
   "execution_count": 224,
   "id": "dd7c1453",
   "metadata": {},
   "outputs": [],
   "source": [
    "# Classical algorithm\n",
    "# The explicit matrix representation of Pauli matrix.\n",
    "Id = np.identity(2)\n",
    "Z = np.array([[1, 0], [0, -1]])\n",
    "X = np.array([[0, 1], [1, 0]])\n",
    "\n",
    "# Coefficients of the linear combination A = c_0 A_0 + c_1 A_1 ...\n",
    "A_0 = np.identity(dim)\n",
    "A_1 = np.kron(np.kron(X, Z), Id)\n",
    "A_2 = np.kron(np.kron(X, Id), Id)\n",
    "\n",
    "A_num = c[0] * A_0 + c[1] * A_1 + c[2] * A_2\n",
    "b = np.ones(dim) / np.sqrt(dim)"
   ]
  },
  {
   "cell_type": "code",
   "execution_count": 225,
   "id": "14ab5f96",
   "metadata": {},
   "outputs": [
    {
     "name": "stdout",
     "output_type": "stream",
     "text": [
      "A = \n",
      " [[1.  0.  0.  0.  0.4 0.  0.  0. ]\n",
      " [0.  1.  0.  0.  0.  0.4 0.  0. ]\n",
      " [0.  0.  1.  0.  0.  0.  0.  0. ]\n",
      " [0.  0.  0.  1.  0.  0.  0.  0. ]\n",
      " [0.4 0.  0.  0.  1.  0.  0.  0. ]\n",
      " [0.  0.4 0.  0.  0.  1.  0.  0. ]\n",
      " [0.  0.  0.  0.  0.  0.  1.  0. ]\n",
      " [0.  0.  0.  0.  0.  0.  0.  1. ]]\n",
      "b = \n",
      " [0.35355339 0.35355339 0.35355339 0.35355339 0.35355339 0.35355339\n",
      " 0.35355339 0.35355339]\n"
     ]
    }
   ],
   "source": [
    "print(\"A = \\n\", A_num)\n",
    "print(\"b = \\n\", b)"
   ]
  },
  {
   "cell_type": "markdown",
   "id": "355662e6",
   "metadata": {},
   "source": [
    "Classical algorithm via np.linalg"
   ]
  },
  {
   "cell_type": "code",
   "execution_count": 227,
   "id": "2ff54973",
   "metadata": {},
   "outputs": [],
   "source": [
    "# The solution can be computed via a matrix inversion:\n",
    "A_inv = np.linalg.inv(A_num)\n",
    "x = np.dot(A_inv, b)"
   ]
  },
  {
   "cell_type": "code",
   "execution_count": 228,
   "id": "494df0da",
   "metadata": {},
   "outputs": [],
   "source": [
    "# In order to compare x with the quantum state |x>, we normalize and square its elements.\n",
    "c_probs = (x / np.linalg.norm(x)) ** 2"
   ]
  },
  {
   "cell_type": "markdown",
   "id": "bbc77647",
   "metadata": {},
   "source": [
    "## Preparation of the quantum solution"
   ]
  },
  {
   "cell_type": "markdown",
   "id": "4b00cbcc",
   "metadata": {},
   "source": [
    "Given the variational weights w that we have previously optimized, we can generate the quantum state $\\ket{x}$. By measuring $\\ket{x}$ in the computational basis we can estimate the probability of each basis state."
   ]
  },
  {
   "cell_type": "code",
   "execution_count": 229,
   "id": "9be21253",
   "metadata": {},
   "outputs": [],
   "source": [
    "# Prepare a new quantum device for sampling define the associated qnode circuit\n",
    "dev_x = qml.device(\"lightning.qubit\", wires=n_qubits, shots=n_shots)\n",
    "\n",
    "@qml.qnode(dev_x, interface=\"autograd\")\n",
    "def prepare_and_sample(weights):\n",
    "\n",
    "    # Variational circuit generating a guess for the solution vector |x>\n",
    "    variational_block(weights)\n",
    "\n",
    "    # We assume that the system is measured in the computational basis.\n",
    "    # then sampling the device will give us a value of 0 or 1 for each qubit (n_qubits)\n",
    "    # this will be repeated for the total number of shots provided (n_shots)\n",
    "    return qml.sample()"
   ]
  },
  {
   "cell_type": "code",
   "execution_count": 230,
   "id": "1679d8ce",
   "metadata": {},
   "outputs": [],
   "source": [
    "# Generate the quantum state |x> and sample it\n",
    "# Using the variational weights w that we have previously optimized.\n",
    "raw_samples = prepare_and_sample(w)\n",
    "\n",
    "# convert the raw samples (bit strings) into integers and count them\n",
    "samples = []\n",
    "for sam in raw_samples:\n",
    "    samples.append(int(\"\".join(str(bs) for bs in sam), base=2))\n",
    "\n",
    "q_probs = np.bincount(samples) / n_shots"
   ]
  },
  {
   "cell_type": "markdown",
   "id": "fe56ca01",
   "metadata": {},
   "source": [
    "## Comparison"
   ]
  },
  {
   "cell_type": "code",
   "execution_count": 231,
   "id": "ddb6f717",
   "metadata": {},
   "outputs": [
    {
     "name": "stdout",
     "output_type": "stream",
     "text": [
      "x_n^2 =\n",
      " [0.08445946 0.08445946 0.16554054 0.16554054 0.08445946 0.08445946\n",
      " 0.16554054 0.16554054]\n"
     ]
    }
   ],
   "source": [
    "# Classical result\n",
    "print(\"x_n^2 =\\n\", c_probs)"
   ]
  },
  {
   "cell_type": "code",
   "execution_count": 232,
   "id": "8c5d16f8",
   "metadata": {},
   "outputs": [
    {
     "name": "stdout",
     "output_type": "stream",
     "text": [
      "|<x|n>|^2=\n",
      " [0.084537 0.084892 0.165169 0.165568 0.084401 0.084678 0.16501  0.165745]\n"
     ]
    }
   ],
   "source": [
    "# Quantum result\n",
    "print(\"|<x|n>|^2=\\n\", q_probs)"
   ]
  },
  {
   "cell_type": "code",
   "execution_count": 233,
   "id": "47476da3",
   "metadata": {},
   "outputs": [
    {
     "data": {
      "image/png": "[encoded data removed]",
      "text/plain": [
       "<Figure size 700x400 with 2 Axes>"
      ]
     },
     "metadata": {},
     "output_type": "display_data"
    }
   ],
   "source": [
    "# Graphically visualize both distributions.\n",
    "fig, (ax1, ax2) = plt.subplots(1, 2, figsize=(7, 4))\n",
    "\n",
    "ax1.bar(np.arange(0, 2 ** n_qubits), c_probs, color=\"blue\")\n",
    "ax1.set_xlim(-0.5, 2 ** n_qubits - 0.5)\n",
    "ax1.set_xlabel(\"Vector space basis\")\n",
    "ax1.set_title(\"Classical probabilities\")\n",
    "\n",
    "ax2.bar(np.arange(0, 2 ** n_qubits), q_probs, color=\"green\")\n",
    "ax2.set_xlim(-0.5, 2 ** n_qubits - 0.5)\n",
    "ax2.set_xlabel(\"Hilbert space basis\")\n",
    "ax2.set_title(\"Quantum probabilities\")\n",
    "\n",
    "plt.show()"
   ]
  },
  {
   "cell_type": "markdown",
   "id": "9d5e95be",
   "metadata": {},
   "source": [
    "# References"
   ]
  },
  {
   "cell_type": "markdown",
   "id": "ef99dc4f",
   "metadata": {},
   "source": [
    "1. Carlos Bravo-Prieto, Ryan LaRose, Marco Cerezo, Yigit Subasi, Lukasz Cincio, Patrick J. Coles. “Variational Quantum Linear Solver: A Hybrid Algorithm for Linear Systems.” arXiv:1909.05820, 2019.\n",
    "\n",
    "2. Pennylane VSQL Tutorial: https://pennylane.ai/qml/demos/tutorial_vqls#setting-of-the-main-hyper-parameters-of-the-model\n",
    "\n",
    "3. Y. Zhou et al., \"Quantum computing in power systems,\" in iEnergy, vol. 1, no. 2, pp. 170-187, June 2022, doi: 10.23919/IEN.2022.0021."
   ]
  }
 ],
 "metadata": {
  "kernelspec": {
   "display_name": "Python 3",
   "language": "python",
   "name": "python3"
  },
  "language_info": {
   "codemirror_mode": {
    "name": "ipython",
    "version": 3
   },
   "file_extension": ".py",
   "mimetype": "text/x-python",
   "name": "python",
   "nbconvert_exporter": "python",
   "pygments_lexer": "ipython3",
   "version": "3.9.13"
  }
 },
 "nbformat": 4,
 "nbformat_minor": 5
}
